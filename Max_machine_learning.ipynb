{
 "cells": [
  {
   "cell_type": "markdown",
   "metadata": {},
   "source": [
    "**Author:** Max Aragón <br>\n",
    "**Affiliation:** Université Bretagne Sud <br>\n",
    "**Course:** Machine Learning <br>\n",
    "**Date:** 2022-11-04"
   ]
  },
  {
   "cell_type": "markdown",
   "metadata": {
    "tags": []
   },
   "source": [
    "<div class=\"alert alert-block alert-success\">\n",
    "<h2><center>Machine Learning Assignment</center></h2>"
   ]
  },
  {
   "cell_type": "markdown",
   "metadata": {},
   "source": [
    "# Content\n",
    "\n",
    "1. [Introduction](#chapter0)\n",
    "\n",
    "2. [Data Analysis](#chapter1)\n",
    "\n",
    "3. [Logistic Regression](#chapter2)\n",
    "\n",
    "4. [Tree-based models](#chapter3)\n",
    "\n",
    "5. [Model comparison](#chapter4)\n"
   ]
  },
  {
   "cell_type": "markdown",
   "metadata": {},
   "source": [
    "***\n",
    "\n",
    "# 1. Introduction <a id='chapter0'></a>\n",
    "\n",
    "***"
   ]
  },
  {
   "cell_type": "markdown",
   "metadata": {},
   "source": [
    "This Jupyter Notebook compares the performance of Logistic Regression and Random Forest algorithms. The dataset under analysis consists of sonar data. The aim is to distinguish between rocks and metal structures underwater. The data contains 60 columns and 208 rows with numbers in the range of 0.0 to 1.0. Each number represents the backscattering energy of acoustic waves over a certain period of time. The target features associated with each record include *R* if the object is a rock and *M* if it is a mine (metal)."
   ]
  },
  {
   "cell_type": "markdown",
   "metadata": {},
   "source": [
    "<div class=\"alert alert-block alert-warning\"><b> Warning! To run Notebook successfully, it must be run sequentially (i.e. not skipping cells). </b>  </div>"
   ]
  },
  {
   "cell_type": "markdown",
   "metadata": {},
   "source": [
    "***\n",
    "\n",
    "# 2. Data analysis <a id='chapter1'></a>\n",
    "\n",
    "***\n",
    "+ A) Preview the 5 first and 5 last rows (<font color='red'>code</font> and <font color='green'>comment</font>)\n",
    "+ B) Split the data into train and test sets (<font color='red'>code</font>)\n",
    "+ C) Brief description (<font color='red'>code</font> and <font color='green'>comment</font>)\n",
    "+ D) Correlation among features(<font color='red'>code</font> and <font color='green'>comment</font>)\n",
    "+ E) Error function(<font color='green'>comment</font>)\n",
    "+ F) Normalization (<font color='green'>comment</font>)"
   ]
  },
  {
   "cell_type": "markdown",
   "metadata": {},
   "source": [
    "## A) Preview <a id='preview'></a>"
   ]
  },
  {
   "cell_type": "code",
   "execution_count": 1,
   "metadata": {},
   "outputs": [],
   "source": [
    "# Load libraries\n",
    "import numpy as np\n",
    "import pandas as pd\n",
    "import seaborn as sns\n",
    "import matplotlib.pyplot as plt"
   ]
  },
  {
   "cell_type": "code",
   "execution_count": 2,
   "metadata": {},
   "outputs": [
    {
     "data": {
      "text/plain": [
       "(208, 61)"
      ]
     },
     "execution_count": 2,
     "metadata": {},
     "output_type": "execute_result"
    }
   ],
   "source": [
    "sonar = pd.read_csv(\"sonar_01.csv\", header=None); sonar.shape"
   ]
  },
  {
   "cell_type": "code",
   "execution_count": 3,
   "metadata": {},
   "outputs": [
    {
     "data": {
      "text/html": [
       "<div>\n",
       "<style scoped>\n",
       "    .dataframe tbody tr th:only-of-type {\n",
       "        vertical-align: middle;\n",
       "    }\n",
       "\n",
       "    .dataframe tbody tr th {\n",
       "        vertical-align: top;\n",
       "    }\n",
       "\n",
       "    .dataframe thead th {\n",
       "        text-align: right;\n",
       "    }\n",
       "</style>\n",
       "<table border=\"1\" class=\"dataframe\">\n",
       "  <thead>\n",
       "    <tr style=\"text-align: right;\">\n",
       "      <th></th>\n",
       "      <th>0</th>\n",
       "      <th>1</th>\n",
       "      <th>2</th>\n",
       "      <th>3</th>\n",
       "      <th>4</th>\n",
       "      <th>5</th>\n",
       "      <th>6</th>\n",
       "      <th>7</th>\n",
       "      <th>8</th>\n",
       "      <th>9</th>\n",
       "      <th>...</th>\n",
       "      <th>51</th>\n",
       "      <th>52</th>\n",
       "      <th>53</th>\n",
       "      <th>54</th>\n",
       "      <th>55</th>\n",
       "      <th>56</th>\n",
       "      <th>57</th>\n",
       "      <th>58</th>\n",
       "      <th>59</th>\n",
       "      <th>60</th>\n",
       "    </tr>\n",
       "  </thead>\n",
       "  <tbody>\n",
       "    <tr>\n",
       "      <th>0</th>\n",
       "      <td>0.2164</td>\n",
       "      <td>0.2544</td>\n",
       "      <td>0.2936</td>\n",
       "      <td>0.2935</td>\n",
       "      <td>0.2657</td>\n",
       "      <td>0.3187</td>\n",
       "      <td>0.2794</td>\n",
       "      <td>0.2534</td>\n",
       "      <td>0.1980</td>\n",
       "      <td>0.1929</td>\n",
       "      <td>...</td>\n",
       "      <td>0.0052</td>\n",
       "      <td>0.0368</td>\n",
       "      <td>0.0279</td>\n",
       "      <td>0.0103</td>\n",
       "      <td>0.0566</td>\n",
       "      <td>0.0759</td>\n",
       "      <td>0.0679</td>\n",
       "      <td>0.0970</td>\n",
       "      <td>0.1473</td>\n",
       "      <td>M</td>\n",
       "    </tr>\n",
       "    <tr>\n",
       "      <th>1</th>\n",
       "      <td>0.1911</td>\n",
       "      <td>0.2475</td>\n",
       "      <td>0.1606</td>\n",
       "      <td>0.0922</td>\n",
       "      <td>0.2398</td>\n",
       "      <td>0.3220</td>\n",
       "      <td>0.4295</td>\n",
       "      <td>0.2652</td>\n",
       "      <td>0.0666</td>\n",
       "      <td>0.1442</td>\n",
       "      <td>...</td>\n",
       "      <td>0.0105</td>\n",
       "      <td>0.0068</td>\n",
       "      <td>0.0232</td>\n",
       "      <td>0.0513</td>\n",
       "      <td>0.0444</td>\n",
       "      <td>0.0249</td>\n",
       "      <td>0.0637</td>\n",
       "      <td>0.0422</td>\n",
       "      <td>0.1130</td>\n",
       "      <td>R</td>\n",
       "    </tr>\n",
       "    <tr>\n",
       "      <th>2</th>\n",
       "      <td>0.1241</td>\n",
       "      <td>0.1533</td>\n",
       "      <td>0.2128</td>\n",
       "      <td>0.2536</td>\n",
       "      <td>0.2686</td>\n",
       "      <td>0.2803</td>\n",
       "      <td>0.1886</td>\n",
       "      <td>0.1485</td>\n",
       "      <td>0.2160</td>\n",
       "      <td>0.2417</td>\n",
       "      <td>...</td>\n",
       "      <td>0.0055</td>\n",
       "      <td>0.0315</td>\n",
       "      <td>0.0252</td>\n",
       "      <td>0.0167</td>\n",
       "      <td>0.0479</td>\n",
       "      <td>0.0902</td>\n",
       "      <td>0.1057</td>\n",
       "      <td>0.1024</td>\n",
       "      <td>0.1209</td>\n",
       "      <td>M</td>\n",
       "    </tr>\n",
       "    <tr>\n",
       "      <th>3</th>\n",
       "      <td>0.0750</td>\n",
       "      <td>0.1631</td>\n",
       "      <td>0.2709</td>\n",
       "      <td>0.3358</td>\n",
       "      <td>0.4091</td>\n",
       "      <td>0.4400</td>\n",
       "      <td>0.5485</td>\n",
       "      <td>0.7213</td>\n",
       "      <td>0.8137</td>\n",
       "      <td>0.9185</td>\n",
       "      <td>...</td>\n",
       "      <td>0.0163</td>\n",
       "      <td>0.0229</td>\n",
       "      <td>0.0369</td>\n",
       "      <td>0.0040</td>\n",
       "      <td>0.0375</td>\n",
       "      <td>0.0455</td>\n",
       "      <td>0.1452</td>\n",
       "      <td>0.2211</td>\n",
       "      <td>0.1188</td>\n",
       "      <td>R</td>\n",
       "    </tr>\n",
       "    <tr>\n",
       "      <th>4</th>\n",
       "      <td>0.2085</td>\n",
       "      <td>0.2720</td>\n",
       "      <td>0.2188</td>\n",
       "      <td>0.3037</td>\n",
       "      <td>0.2959</td>\n",
       "      <td>0.2059</td>\n",
       "      <td>0.0906</td>\n",
       "      <td>0.1610</td>\n",
       "      <td>0.1800</td>\n",
       "      <td>0.2180</td>\n",
       "      <td>...</td>\n",
       "      <td>0.0036</td>\n",
       "      <td>0.0201</td>\n",
       "      <td>0.0178</td>\n",
       "      <td>0.0274</td>\n",
       "      <td>0.0232</td>\n",
       "      <td>0.0724</td>\n",
       "      <td>0.0833</td>\n",
       "      <td>0.1232</td>\n",
       "      <td>0.1298</td>\n",
       "      <td>M</td>\n",
       "    </tr>\n",
       "  </tbody>\n",
       "</table>\n",
       "<p>5 rows × 61 columns</p>\n",
       "</div>"
      ],
      "text/plain": [
       "       0       1       2       3       4       5       6       7       8   \\\n",
       "0  0.2164  0.2544  0.2936  0.2935  0.2657  0.3187  0.2794  0.2534  0.1980   \n",
       "1  0.1911  0.2475  0.1606  0.0922  0.2398  0.3220  0.4295  0.2652  0.0666   \n",
       "2  0.1241  0.1533  0.2128  0.2536  0.2686  0.2803  0.1886  0.1485  0.2160   \n",
       "3  0.0750  0.1631  0.2709  0.3358  0.4091  0.4400  0.5485  0.7213  0.8137   \n",
       "4  0.2085  0.2720  0.2188  0.3037  0.2959  0.2059  0.0906  0.1610  0.1800   \n",
       "\n",
       "       9   ...      51      52      53      54      55      56      57  \\\n",
       "0  0.1929  ...  0.0052  0.0368  0.0279  0.0103  0.0566  0.0759  0.0679   \n",
       "1  0.1442  ...  0.0105  0.0068  0.0232  0.0513  0.0444  0.0249  0.0637   \n",
       "2  0.2417  ...  0.0055  0.0315  0.0252  0.0167  0.0479  0.0902  0.1057   \n",
       "3  0.9185  ...  0.0163  0.0229  0.0369  0.0040  0.0375  0.0455  0.1452   \n",
       "4  0.2180  ...  0.0036  0.0201  0.0178  0.0274  0.0232  0.0724  0.0833   \n",
       "\n",
       "       58      59  60  \n",
       "0  0.0970  0.1473   M  \n",
       "1  0.0422  0.1130   R  \n",
       "2  0.1024  0.1209   M  \n",
       "3  0.2211  0.1188   R  \n",
       "4  0.1232  0.1298   M  \n",
       "\n",
       "[5 rows x 61 columns]"
      ]
     },
     "execution_count": 3,
     "metadata": {},
     "output_type": "execute_result"
    }
   ],
   "source": [
    "sonar.head(5)"
   ]
  },
  {
   "cell_type": "code",
   "execution_count": 4,
   "metadata": {},
   "outputs": [
    {
     "data": {
      "text/html": [
       "<div>\n",
       "<style scoped>\n",
       "    .dataframe tbody tr th:only-of-type {\n",
       "        vertical-align: middle;\n",
       "    }\n",
       "\n",
       "    .dataframe tbody tr th {\n",
       "        vertical-align: top;\n",
       "    }\n",
       "\n",
       "    .dataframe thead th {\n",
       "        text-align: right;\n",
       "    }\n",
       "</style>\n",
       "<table border=\"1\" class=\"dataframe\">\n",
       "  <thead>\n",
       "    <tr style=\"text-align: right;\">\n",
       "      <th></th>\n",
       "      <th>0</th>\n",
       "      <th>1</th>\n",
       "      <th>2</th>\n",
       "      <th>3</th>\n",
       "      <th>4</th>\n",
       "      <th>5</th>\n",
       "      <th>6</th>\n",
       "      <th>7</th>\n",
       "      <th>8</th>\n",
       "      <th>9</th>\n",
       "      <th>...</th>\n",
       "      <th>51</th>\n",
       "      <th>52</th>\n",
       "      <th>53</th>\n",
       "      <th>54</th>\n",
       "      <th>55</th>\n",
       "      <th>56</th>\n",
       "      <th>57</th>\n",
       "      <th>58</th>\n",
       "      <th>59</th>\n",
       "      <th>60</th>\n",
       "    </tr>\n",
       "  </thead>\n",
       "  <tbody>\n",
       "    <tr>\n",
       "      <th>203</th>\n",
       "      <td>0.0962</td>\n",
       "      <td>0.0251</td>\n",
       "      <td>0.0801</td>\n",
       "      <td>0.1056</td>\n",
       "      <td>0.1266</td>\n",
       "      <td>0.0890</td>\n",
       "      <td>0.0198</td>\n",
       "      <td>0.1133</td>\n",
       "      <td>0.2826</td>\n",
       "      <td>0.3234</td>\n",
       "      <td>...</td>\n",
       "      <td>0.0040</td>\n",
       "      <td>0.0164</td>\n",
       "      <td>0.0173</td>\n",
       "      <td>0.0347</td>\n",
       "      <td>0.0070</td>\n",
       "      <td>0.0187</td>\n",
       "      <td>0.0671</td>\n",
       "      <td>0.1056</td>\n",
       "      <td>0.0697</td>\n",
       "      <td>R</td>\n",
       "    </tr>\n",
       "    <tr>\n",
       "      <th>204</th>\n",
       "      <td>0.2532</td>\n",
       "      <td>0.2672</td>\n",
       "      <td>0.3056</td>\n",
       "      <td>0.3161</td>\n",
       "      <td>0.2314</td>\n",
       "      <td>0.2067</td>\n",
       "      <td>0.1804</td>\n",
       "      <td>0.2808</td>\n",
       "      <td>0.4423</td>\n",
       "      <td>0.5947</td>\n",
       "      <td>...</td>\n",
       "      <td>0.0074</td>\n",
       "      <td>0.0329</td>\n",
       "      <td>0.0216</td>\n",
       "      <td>0.0386</td>\n",
       "      <td>0.0627</td>\n",
       "      <td>0.1158</td>\n",
       "      <td>0.1482</td>\n",
       "      <td>0.2054</td>\n",
       "      <td>0.1605</td>\n",
       "      <td>M</td>\n",
       "    </tr>\n",
       "    <tr>\n",
       "      <th>205</th>\n",
       "      <td>0.1335</td>\n",
       "      <td>0.1199</td>\n",
       "      <td>0.1742</td>\n",
       "      <td>0.1387</td>\n",
       "      <td>0.2042</td>\n",
       "      <td>0.2580</td>\n",
       "      <td>0.2616</td>\n",
       "      <td>0.2097</td>\n",
       "      <td>0.2532</td>\n",
       "      <td>0.3213</td>\n",
       "      <td>...</td>\n",
       "      <td>0.0018</td>\n",
       "      <td>0.0201</td>\n",
       "      <td>0.0116</td>\n",
       "      <td>0.0123</td>\n",
       "      <td>0.0245</td>\n",
       "      <td>0.0547</td>\n",
       "      <td>0.0208</td>\n",
       "      <td>0.0891</td>\n",
       "      <td>0.0836</td>\n",
       "      <td>R</td>\n",
       "    </tr>\n",
       "    <tr>\n",
       "      <th>206</th>\n",
       "      <td>0.1451</td>\n",
       "      <td>0.2110</td>\n",
       "      <td>0.2343</td>\n",
       "      <td>0.2087</td>\n",
       "      <td>0.1645</td>\n",
       "      <td>0.1689</td>\n",
       "      <td>0.1650</td>\n",
       "      <td>0.1967</td>\n",
       "      <td>0.2934</td>\n",
       "      <td>0.3709</td>\n",
       "      <td>...</td>\n",
       "      <td>0.0032</td>\n",
       "      <td>0.0217</td>\n",
       "      <td>0.0152</td>\n",
       "      <td>0.0346</td>\n",
       "      <td>0.0346</td>\n",
       "      <td>0.0484</td>\n",
       "      <td>0.0526</td>\n",
       "      <td>0.0773</td>\n",
       "      <td>0.0862</td>\n",
       "      <td>M</td>\n",
       "    </tr>\n",
       "    <tr>\n",
       "      <th>207</th>\n",
       "      <td>0.2922</td>\n",
       "      <td>0.3469</td>\n",
       "      <td>0.3265</td>\n",
       "      <td>0.3263</td>\n",
       "      <td>0.2301</td>\n",
       "      <td>0.1253</td>\n",
       "      <td>0.2102</td>\n",
       "      <td>0.2401</td>\n",
       "      <td>0.1928</td>\n",
       "      <td>0.1673</td>\n",
       "      <td>...</td>\n",
       "      <td>0.0029</td>\n",
       "      <td>0.0047</td>\n",
       "      <td>0.0059</td>\n",
       "      <td>0.0080</td>\n",
       "      <td>0.0554</td>\n",
       "      <td>0.0883</td>\n",
       "      <td>0.1278</td>\n",
       "      <td>0.1674</td>\n",
       "      <td>0.1373</td>\n",
       "      <td>M</td>\n",
       "    </tr>\n",
       "  </tbody>\n",
       "</table>\n",
       "<p>5 rows × 61 columns</p>\n",
       "</div>"
      ],
      "text/plain": [
       "         0       1       2       3       4       5       6       7       8   \\\n",
       "203  0.0962  0.0251  0.0801  0.1056  0.1266  0.0890  0.0198  0.1133  0.2826   \n",
       "204  0.2532  0.2672  0.3056  0.3161  0.2314  0.2067  0.1804  0.2808  0.4423   \n",
       "205  0.1335  0.1199  0.1742  0.1387  0.2042  0.2580  0.2616  0.2097  0.2532   \n",
       "206  0.1451  0.2110  0.2343  0.2087  0.1645  0.1689  0.1650  0.1967  0.2934   \n",
       "207  0.2922  0.3469  0.3265  0.3263  0.2301  0.1253  0.2102  0.2401  0.1928   \n",
       "\n",
       "         9   ...      51      52      53      54      55      56      57  \\\n",
       "203  0.3234  ...  0.0040  0.0164  0.0173  0.0347  0.0070  0.0187  0.0671   \n",
       "204  0.5947  ...  0.0074  0.0329  0.0216  0.0386  0.0627  0.1158  0.1482   \n",
       "205  0.3213  ...  0.0018  0.0201  0.0116  0.0123  0.0245  0.0547  0.0208   \n",
       "206  0.3709  ...  0.0032  0.0217  0.0152  0.0346  0.0346  0.0484  0.0526   \n",
       "207  0.1673  ...  0.0029  0.0047  0.0059  0.0080  0.0554  0.0883  0.1278   \n",
       "\n",
       "         58      59  60  \n",
       "203  0.1056  0.0697   R  \n",
       "204  0.2054  0.1605   M  \n",
       "205  0.0891  0.0836   R  \n",
       "206  0.0773  0.0862   M  \n",
       "207  0.1674  0.1373   M  \n",
       "\n",
       "[5 rows x 61 columns]"
      ]
     },
     "execution_count": 4,
     "metadata": {},
     "output_type": "execute_result"
    }
   ],
   "source": [
    "sonar.tail(5)"
   ]
  },
  {
   "cell_type": "markdown",
   "metadata": {
    "tags": []
   },
   "source": [
    "### <font color='green'>Comment:</font> The head and tail functions provide a preview for understanding the dataset. There are 60 numerical columns as predictors (independent variables) and 1 categorical as the target (dependent variable). Therefore, it is a classification problem."
   ]
  },
  {
   "cell_type": "markdown",
   "metadata": {},
   "source": [
    "## B) Split <a id='split'></a>"
   ]
  },
  {
   "cell_type": "code",
   "execution_count": 5,
   "metadata": {},
   "outputs": [],
   "source": [
    "from sklearn.model_selection import train_test_split\n",
    "\n",
    "target = sonar.loc[:,60] \n",
    "features = sonar.loc[:,0:59]\n",
    "\n",
    "X_train, X_test, y_train, y_test = train_test_split(features, target, test_size=0.35, random_state=1234)"
   ]
  },
  {
   "cell_type": "markdown",
   "metadata": {},
   "source": [
    "## C) Description <a id='describe'></a>"
   ]
  },
  {
   "cell_type": "markdown",
   "metadata": {},
   "source": [
    "### Numerical variables"
   ]
  },
  {
   "cell_type": "code",
   "execution_count": 6,
   "metadata": {},
   "outputs": [
    {
     "data": {
      "text/html": [
       "<div>\n",
       "<style scoped>\n",
       "    .dataframe tbody tr th:only-of-type {\n",
       "        vertical-align: middle;\n",
       "    }\n",
       "\n",
       "    .dataframe tbody tr th {\n",
       "        vertical-align: top;\n",
       "    }\n",
       "\n",
       "    .dataframe thead th {\n",
       "        text-align: right;\n",
       "    }\n",
       "</style>\n",
       "<table border=\"1\" class=\"dataframe\">\n",
       "  <thead>\n",
       "    <tr style=\"text-align: right;\">\n",
       "      <th></th>\n",
       "      <th>0</th>\n",
       "      <th>1</th>\n",
       "      <th>2</th>\n",
       "      <th>3</th>\n",
       "      <th>4</th>\n",
       "      <th>5</th>\n",
       "      <th>6</th>\n",
       "      <th>7</th>\n",
       "      <th>8</th>\n",
       "      <th>9</th>\n",
       "      <th>...</th>\n",
       "      <th>50</th>\n",
       "      <th>51</th>\n",
       "      <th>52</th>\n",
       "      <th>53</th>\n",
       "      <th>54</th>\n",
       "      <th>55</th>\n",
       "      <th>56</th>\n",
       "      <th>57</th>\n",
       "      <th>58</th>\n",
       "      <th>59</th>\n",
       "    </tr>\n",
       "  </thead>\n",
       "  <tbody>\n",
       "    <tr>\n",
       "      <th>count</th>\n",
       "      <td>135.000000</td>\n",
       "      <td>135.000000</td>\n",
       "      <td>135.000000</td>\n",
       "      <td>135.000000</td>\n",
       "      <td>135.000000</td>\n",
       "      <td>135.000000</td>\n",
       "      <td>135.000000</td>\n",
       "      <td>135.000000</td>\n",
       "      <td>135.000000</td>\n",
       "      <td>135.000000</td>\n",
       "      <td>...</td>\n",
       "      <td>135.000000</td>\n",
       "      <td>135.000000</td>\n",
       "      <td>135.000000</td>\n",
       "      <td>135.000000</td>\n",
       "      <td>135.000000</td>\n",
       "      <td>135.000000</td>\n",
       "      <td>135.000000</td>\n",
       "      <td>135.000000</td>\n",
       "      <td>135.000000</td>\n",
       "      <td>135.000000</td>\n",
       "    </tr>\n",
       "    <tr>\n",
       "      <th>mean</th>\n",
       "      <td>0.190776</td>\n",
       "      <td>0.219427</td>\n",
       "      <td>0.246479</td>\n",
       "      <td>0.256171</td>\n",
       "      <td>0.276272</td>\n",
       "      <td>0.301701</td>\n",
       "      <td>0.319838</td>\n",
       "      <td>0.377415</td>\n",
       "      <td>0.413449</td>\n",
       "      <td>0.449030</td>\n",
       "      <td>...</td>\n",
       "      <td>0.008097</td>\n",
       "      <td>0.006632</td>\n",
       "      <td>0.030757</td>\n",
       "      <td>0.041140</td>\n",
       "      <td>0.047187</td>\n",
       "      <td>0.056048</td>\n",
       "      <td>0.077939</td>\n",
       "      <td>0.108266</td>\n",
       "      <td>0.126997</td>\n",
       "      <td>0.144378</td>\n",
       "    </tr>\n",
       "    <tr>\n",
       "      <th>std</th>\n",
       "      <td>0.126688</td>\n",
       "      <td>0.143240</td>\n",
       "      <td>0.139798</td>\n",
       "      <td>0.142119</td>\n",
       "      <td>0.145892</td>\n",
       "      <td>0.176228</td>\n",
       "      <td>0.209644</td>\n",
       "      <td>0.234940</td>\n",
       "      <td>0.271520</td>\n",
       "      <td>0.269448</td>\n",
       "      <td>...</td>\n",
       "      <td>0.005884</td>\n",
       "      <td>0.004413</td>\n",
       "      <td>0.025202</td>\n",
       "      <td>0.035354</td>\n",
       "      <td>0.041626</td>\n",
       "      <td>0.051682</td>\n",
       "      <td>0.059957</td>\n",
       "      <td>0.059524</td>\n",
       "      <td>0.062763</td>\n",
       "      <td>0.086924</td>\n",
       "    </tr>\n",
       "    <tr>\n",
       "      <th>min</th>\n",
       "      <td>0.007500</td>\n",
       "      <td>0.011300</td>\n",
       "      <td>0.028900</td>\n",
       "      <td>0.026900</td>\n",
       "      <td>0.018400</td>\n",
       "      <td>0.027300</td>\n",
       "      <td>0.009200</td>\n",
       "      <td>0.042200</td>\n",
       "      <td>0.036700</td>\n",
       "      <td>0.037500</td>\n",
       "      <td>...</td>\n",
       "      <td>0.000100</td>\n",
       "      <td>0.000700</td>\n",
       "      <td>0.001500</td>\n",
       "      <td>0.001700</td>\n",
       "      <td>0.001500</td>\n",
       "      <td>0.005800</td>\n",
       "      <td>0.006700</td>\n",
       "      <td>0.010200</td>\n",
       "      <td>0.003300</td>\n",
       "      <td>0.005500</td>\n",
       "    </tr>\n",
       "    <tr>\n",
       "      <th>25%</th>\n",
       "      <td>0.102800</td>\n",
       "      <td>0.118800</td>\n",
       "      <td>0.141300</td>\n",
       "      <td>0.137950</td>\n",
       "      <td>0.167400</td>\n",
       "      <td>0.176100</td>\n",
       "      <td>0.155050</td>\n",
       "      <td>0.202750</td>\n",
       "      <td>0.199450</td>\n",
       "      <td>0.234400</td>\n",
       "      <td>...</td>\n",
       "      <td>0.004150</td>\n",
       "      <td>0.003200</td>\n",
       "      <td>0.013450</td>\n",
       "      <td>0.017200</td>\n",
       "      <td>0.021000</td>\n",
       "      <td>0.026000</td>\n",
       "      <td>0.035750</td>\n",
       "      <td>0.071950</td>\n",
       "      <td>0.086800</td>\n",
       "      <td>0.088800</td>\n",
       "    </tr>\n",
       "    <tr>\n",
       "      <th>50%</th>\n",
       "      <td>0.159400</td>\n",
       "      <td>0.190800</td>\n",
       "      <td>0.234300</td>\n",
       "      <td>0.253600</td>\n",
       "      <td>0.245600</td>\n",
       "      <td>0.280300</td>\n",
       "      <td>0.279400</td>\n",
       "      <td>0.300200</td>\n",
       "      <td>0.305200</td>\n",
       "      <td>0.342400</td>\n",
       "      <td>...</td>\n",
       "      <td>0.006900</td>\n",
       "      <td>0.005500</td>\n",
       "      <td>0.023500</td>\n",
       "      <td>0.031900</td>\n",
       "      <td>0.038100</td>\n",
       "      <td>0.043200</td>\n",
       "      <td>0.065200</td>\n",
       "      <td>0.097300</td>\n",
       "      <td>0.118200</td>\n",
       "      <td>0.122000</td>\n",
       "    </tr>\n",
       "    <tr>\n",
       "      <th>75%</th>\n",
       "      <td>0.257850</td>\n",
       "      <td>0.283000</td>\n",
       "      <td>0.317150</td>\n",
       "      <td>0.328600</td>\n",
       "      <td>0.366450</td>\n",
       "      <td>0.394850</td>\n",
       "      <td>0.456500</td>\n",
       "      <td>0.531900</td>\n",
       "      <td>0.651450</td>\n",
       "      <td>0.688200</td>\n",
       "      <td>...</td>\n",
       "      <td>0.010750</td>\n",
       "      <td>0.009100</td>\n",
       "      <td>0.037350</td>\n",
       "      <td>0.052900</td>\n",
       "      <td>0.062250</td>\n",
       "      <td>0.065700</td>\n",
       "      <td>0.107100</td>\n",
       "      <td>0.138800</td>\n",
       "      <td>0.164550</td>\n",
       "      <td>0.181850</td>\n",
       "    </tr>\n",
       "    <tr>\n",
       "      <th>max</th>\n",
       "      <td>0.682800</td>\n",
       "      <td>0.710600</td>\n",
       "      <td>0.734200</td>\n",
       "      <td>0.655200</td>\n",
       "      <td>0.713100</td>\n",
       "      <td>0.997000</td>\n",
       "      <td>0.913700</td>\n",
       "      <td>0.975100</td>\n",
       "      <td>1.000000</td>\n",
       "      <td>1.000000</td>\n",
       "      <td>...</td>\n",
       "      <td>0.029400</td>\n",
       "      <td>0.023100</td>\n",
       "      <td>0.137100</td>\n",
       "      <td>0.233900</td>\n",
       "      <td>0.305900</td>\n",
       "      <td>0.426400</td>\n",
       "      <td>0.401000</td>\n",
       "      <td>0.382300</td>\n",
       "      <td>0.372900</td>\n",
       "      <td>0.456600</td>\n",
       "    </tr>\n",
       "  </tbody>\n",
       "</table>\n",
       "<p>8 rows × 60 columns</p>\n",
       "</div>"
      ],
      "text/plain": [
       "               0           1           2           3           4           5   \\\n",
       "count  135.000000  135.000000  135.000000  135.000000  135.000000  135.000000   \n",
       "mean     0.190776    0.219427    0.246479    0.256171    0.276272    0.301701   \n",
       "std      0.126688    0.143240    0.139798    0.142119    0.145892    0.176228   \n",
       "min      0.007500    0.011300    0.028900    0.026900    0.018400    0.027300   \n",
       "25%      0.102800    0.118800    0.141300    0.137950    0.167400    0.176100   \n",
       "50%      0.159400    0.190800    0.234300    0.253600    0.245600    0.280300   \n",
       "75%      0.257850    0.283000    0.317150    0.328600    0.366450    0.394850   \n",
       "max      0.682800    0.710600    0.734200    0.655200    0.713100    0.997000   \n",
       "\n",
       "               6           7           8           9   ...          50  \\\n",
       "count  135.000000  135.000000  135.000000  135.000000  ...  135.000000   \n",
       "mean     0.319838    0.377415    0.413449    0.449030  ...    0.008097   \n",
       "std      0.209644    0.234940    0.271520    0.269448  ...    0.005884   \n",
       "min      0.009200    0.042200    0.036700    0.037500  ...    0.000100   \n",
       "25%      0.155050    0.202750    0.199450    0.234400  ...    0.004150   \n",
       "50%      0.279400    0.300200    0.305200    0.342400  ...    0.006900   \n",
       "75%      0.456500    0.531900    0.651450    0.688200  ...    0.010750   \n",
       "max      0.913700    0.975100    1.000000    1.000000  ...    0.029400   \n",
       "\n",
       "               51          52          53          54          55          56  \\\n",
       "count  135.000000  135.000000  135.000000  135.000000  135.000000  135.000000   \n",
       "mean     0.006632    0.030757    0.041140    0.047187    0.056048    0.077939   \n",
       "std      0.004413    0.025202    0.035354    0.041626    0.051682    0.059957   \n",
       "min      0.000700    0.001500    0.001700    0.001500    0.005800    0.006700   \n",
       "25%      0.003200    0.013450    0.017200    0.021000    0.026000    0.035750   \n",
       "50%      0.005500    0.023500    0.031900    0.038100    0.043200    0.065200   \n",
       "75%      0.009100    0.037350    0.052900    0.062250    0.065700    0.107100   \n",
       "max      0.023100    0.137100    0.233900    0.305900    0.426400    0.401000   \n",
       "\n",
       "               57          58          59  \n",
       "count  135.000000  135.000000  135.000000  \n",
       "mean     0.108266    0.126997    0.144378  \n",
       "std      0.059524    0.062763    0.086924  \n",
       "min      0.010200    0.003300    0.005500  \n",
       "25%      0.071950    0.086800    0.088800  \n",
       "50%      0.097300    0.118200    0.122000  \n",
       "75%      0.138800    0.164550    0.181850  \n",
       "max      0.382300    0.372900    0.456600  \n",
       "\n",
       "[8 rows x 60 columns]"
      ]
     },
     "execution_count": 6,
     "metadata": {},
     "output_type": "execute_result"
    }
   ],
   "source": [
    "X_train.describe()"
   ]
  },
  {
   "cell_type": "code",
   "execution_count": 7,
   "metadata": {},
   "outputs": [
    {
     "data": {
      "text/html": [
       "<div>\n",
       "<style scoped>\n",
       "    .dataframe tbody tr th:only-of-type {\n",
       "        vertical-align: middle;\n",
       "    }\n",
       "\n",
       "    .dataframe tbody tr th {\n",
       "        vertical-align: top;\n",
       "    }\n",
       "\n",
       "    .dataframe thead th {\n",
       "        text-align: right;\n",
       "    }\n",
       "</style>\n",
       "<table border=\"1\" class=\"dataframe\">\n",
       "  <thead>\n",
       "    <tr style=\"text-align: right;\">\n",
       "      <th></th>\n",
       "      <th>0</th>\n",
       "      <th>1</th>\n",
       "      <th>2</th>\n",
       "      <th>3</th>\n",
       "      <th>4</th>\n",
       "      <th>5</th>\n",
       "      <th>6</th>\n",
       "      <th>7</th>\n",
       "      <th>8</th>\n",
       "      <th>9</th>\n",
       "      <th>...</th>\n",
       "      <th>50</th>\n",
       "      <th>51</th>\n",
       "      <th>52</th>\n",
       "      <th>53</th>\n",
       "      <th>54</th>\n",
       "      <th>55</th>\n",
       "      <th>56</th>\n",
       "      <th>57</th>\n",
       "      <th>58</th>\n",
       "      <th>59</th>\n",
       "    </tr>\n",
       "  </thead>\n",
       "  <tbody>\n",
       "    <tr>\n",
       "      <th>count</th>\n",
       "      <td>73.000000</td>\n",
       "      <td>73.000000</td>\n",
       "      <td>73.000000</td>\n",
       "      <td>73.000000</td>\n",
       "      <td>73.000000</td>\n",
       "      <td>73.000000</td>\n",
       "      <td>73.000000</td>\n",
       "      <td>73.000000</td>\n",
       "      <td>73.00000</td>\n",
       "      <td>73.00000</td>\n",
       "      <td>...</td>\n",
       "      <td>73.000000</td>\n",
       "      <td>73.000000</td>\n",
       "      <td>73.000000</td>\n",
       "      <td>73.000000</td>\n",
       "      <td>73.000000</td>\n",
       "      <td>73.000000</td>\n",
       "      <td>73.000000</td>\n",
       "      <td>73.000000</td>\n",
       "      <td>73.000000</td>\n",
       "      <td>73.000000</td>\n",
       "    </tr>\n",
       "    <tr>\n",
       "      <th>mean</th>\n",
       "      <td>0.154381</td>\n",
       "      <td>0.187605</td>\n",
       "      <td>0.216658</td>\n",
       "      <td>0.239218</td>\n",
       "      <td>0.267819</td>\n",
       "      <td>0.287075</td>\n",
       "      <td>0.320874</td>\n",
       "      <td>0.380468</td>\n",
       "      <td>0.42067</td>\n",
       "      <td>0.45840</td>\n",
       "      <td>...</td>\n",
       "      <td>0.007653</td>\n",
       "      <td>0.006277</td>\n",
       "      <td>0.026218</td>\n",
       "      <td>0.033437</td>\n",
       "      <td>0.037627</td>\n",
       "      <td>0.049905</td>\n",
       "      <td>0.070142</td>\n",
       "      <td>0.097736</td>\n",
       "      <td>0.112037</td>\n",
       "      <td>0.117085</td>\n",
       "    </tr>\n",
       "    <tr>\n",
       "      <th>std</th>\n",
       "      <td>0.097735</td>\n",
       "      <td>0.114422</td>\n",
       "      <td>0.116928</td>\n",
       "      <td>0.136486</td>\n",
       "      <td>0.132164</td>\n",
       "      <td>0.140834</td>\n",
       "      <td>0.198815</td>\n",
       "      <td>0.229954</td>\n",
       "      <td>0.25029</td>\n",
       "      <td>0.24792</td>\n",
       "      <td>...</td>\n",
       "      <td>0.006729</td>\n",
       "      <td>0.006037</td>\n",
       "      <td>0.018002</td>\n",
       "      <td>0.027531</td>\n",
       "      <td>0.030994</td>\n",
       "      <td>0.035044</td>\n",
       "      <td>0.046282</td>\n",
       "      <td>0.058109</td>\n",
       "      <td>0.059140</td>\n",
       "      <td>0.079334</td>\n",
       "    </tr>\n",
       "    <tr>\n",
       "      <th>min</th>\n",
       "      <td>0.015500</td>\n",
       "      <td>0.027900</td>\n",
       "      <td>0.052300</td>\n",
       "      <td>0.023600</td>\n",
       "      <td>0.049300</td>\n",
       "      <td>0.042000</td>\n",
       "      <td>0.003100</td>\n",
       "      <td>0.016200</td>\n",
       "      <td>0.03490</td>\n",
       "      <td>0.08370</td>\n",
       "      <td>...</td>\n",
       "      <td>0.000500</td>\n",
       "      <td>0.000600</td>\n",
       "      <td>0.003600</td>\n",
       "      <td>0.000600</td>\n",
       "      <td>0.004500</td>\n",
       "      <td>0.006200</td>\n",
       "      <td>0.007600</td>\n",
       "      <td>0.011600</td>\n",
       "      <td>0.013000</td>\n",
       "      <td>0.009800</td>\n",
       "    </tr>\n",
       "    <tr>\n",
       "      <th>25%</th>\n",
       "      <td>0.094100</td>\n",
       "      <td>0.103600</td>\n",
       "      <td>0.123900</td>\n",
       "      <td>0.121500</td>\n",
       "      <td>0.159900</td>\n",
       "      <td>0.164100</td>\n",
       "      <td>0.168200</td>\n",
       "      <td>0.189200</td>\n",
       "      <td>0.22820</td>\n",
       "      <td>0.26790</td>\n",
       "      <td>...</td>\n",
       "      <td>0.003600</td>\n",
       "      <td>0.002700</td>\n",
       "      <td>0.013200</td>\n",
       "      <td>0.012200</td>\n",
       "      <td>0.015000</td>\n",
       "      <td>0.022500</td>\n",
       "      <td>0.039700</td>\n",
       "      <td>0.059100</td>\n",
       "      <td>0.074200</td>\n",
       "      <td>0.071300</td>\n",
       "    </tr>\n",
       "    <tr>\n",
       "      <th>50%</th>\n",
       "      <td>0.135700</td>\n",
       "      <td>0.167500</td>\n",
       "      <td>0.198900</td>\n",
       "      <td>0.247000</td>\n",
       "      <td>0.277700</td>\n",
       "      <td>0.282600</td>\n",
       "      <td>0.290100</td>\n",
       "      <td>0.330800</td>\n",
       "      <td>0.34260</td>\n",
       "      <td>0.38170</td>\n",
       "      <td>...</td>\n",
       "      <td>0.005800</td>\n",
       "      <td>0.004800</td>\n",
       "      <td>0.021000</td>\n",
       "      <td>0.027800</td>\n",
       "      <td>0.028800</td>\n",
       "      <td>0.044500</td>\n",
       "      <td>0.059700</td>\n",
       "      <td>0.086300</td>\n",
       "      <td>0.099300</td>\n",
       "      <td>0.099700</td>\n",
       "    </tr>\n",
       "    <tr>\n",
       "      <th>75%</th>\n",
       "      <td>0.186500</td>\n",
       "      <td>0.227100</td>\n",
       "      <td>0.262100</td>\n",
       "      <td>0.332300</td>\n",
       "      <td>0.337500</td>\n",
       "      <td>0.359800</td>\n",
       "      <td>0.438000</td>\n",
       "      <td>0.544000</td>\n",
       "      <td>0.67590</td>\n",
       "      <td>0.63040</td>\n",
       "      <td>...</td>\n",
       "      <td>0.008200</td>\n",
       "      <td>0.007800</td>\n",
       "      <td>0.033300</td>\n",
       "      <td>0.043600</td>\n",
       "      <td>0.046600</td>\n",
       "      <td>0.062200</td>\n",
       "      <td>0.091500</td>\n",
       "      <td>0.126700</td>\n",
       "      <td>0.139200</td>\n",
       "      <td>0.145100</td>\n",
       "    </tr>\n",
       "    <tr>\n",
       "      <th>max</th>\n",
       "      <td>0.559800</td>\n",
       "      <td>0.619400</td>\n",
       "      <td>0.633300</td>\n",
       "      <td>0.706000</td>\n",
       "      <td>0.634300</td>\n",
       "      <td>0.819800</td>\n",
       "      <td>1.000000</td>\n",
       "      <td>0.998800</td>\n",
       "      <td>0.97860</td>\n",
       "      <td>1.00000</td>\n",
       "      <td>...</td>\n",
       "      <td>0.036400</td>\n",
       "      <td>0.043900</td>\n",
       "      <td>0.108300</td>\n",
       "      <td>0.157400</td>\n",
       "      <td>0.152600</td>\n",
       "      <td>0.140800</td>\n",
       "      <td>0.191300</td>\n",
       "      <td>0.307000</td>\n",
       "      <td>0.332200</td>\n",
       "      <td>0.459000</td>\n",
       "    </tr>\n",
       "  </tbody>\n",
       "</table>\n",
       "<p>8 rows × 60 columns</p>\n",
       "</div>"
      ],
      "text/plain": [
       "              0          1          2          3          4          5   \\\n",
       "count  73.000000  73.000000  73.000000  73.000000  73.000000  73.000000   \n",
       "mean    0.154381   0.187605   0.216658   0.239218   0.267819   0.287075   \n",
       "std     0.097735   0.114422   0.116928   0.136486   0.132164   0.140834   \n",
       "min     0.015500   0.027900   0.052300   0.023600   0.049300   0.042000   \n",
       "25%     0.094100   0.103600   0.123900   0.121500   0.159900   0.164100   \n",
       "50%     0.135700   0.167500   0.198900   0.247000   0.277700   0.282600   \n",
       "75%     0.186500   0.227100   0.262100   0.332300   0.337500   0.359800   \n",
       "max     0.559800   0.619400   0.633300   0.706000   0.634300   0.819800   \n",
       "\n",
       "              6          7         8         9   ...         50         51  \\\n",
       "count  73.000000  73.000000  73.00000  73.00000  ...  73.000000  73.000000   \n",
       "mean    0.320874   0.380468   0.42067   0.45840  ...   0.007653   0.006277   \n",
       "std     0.198815   0.229954   0.25029   0.24792  ...   0.006729   0.006037   \n",
       "min     0.003100   0.016200   0.03490   0.08370  ...   0.000500   0.000600   \n",
       "25%     0.168200   0.189200   0.22820   0.26790  ...   0.003600   0.002700   \n",
       "50%     0.290100   0.330800   0.34260   0.38170  ...   0.005800   0.004800   \n",
       "75%     0.438000   0.544000   0.67590   0.63040  ...   0.008200   0.007800   \n",
       "max     1.000000   0.998800   0.97860   1.00000  ...   0.036400   0.043900   \n",
       "\n",
       "              52         53         54         55         56         57  \\\n",
       "count  73.000000  73.000000  73.000000  73.000000  73.000000  73.000000   \n",
       "mean    0.026218   0.033437   0.037627   0.049905   0.070142   0.097736   \n",
       "std     0.018002   0.027531   0.030994   0.035044   0.046282   0.058109   \n",
       "min     0.003600   0.000600   0.004500   0.006200   0.007600   0.011600   \n",
       "25%     0.013200   0.012200   0.015000   0.022500   0.039700   0.059100   \n",
       "50%     0.021000   0.027800   0.028800   0.044500   0.059700   0.086300   \n",
       "75%     0.033300   0.043600   0.046600   0.062200   0.091500   0.126700   \n",
       "max     0.108300   0.157400   0.152600   0.140800   0.191300   0.307000   \n",
       "\n",
       "              58         59  \n",
       "count  73.000000  73.000000  \n",
       "mean    0.112037   0.117085  \n",
       "std     0.059140   0.079334  \n",
       "min     0.013000   0.009800  \n",
       "25%     0.074200   0.071300  \n",
       "50%     0.099300   0.099700  \n",
       "75%     0.139200   0.145100  \n",
       "max     0.332200   0.459000  \n",
       "\n",
       "[8 rows x 60 columns]"
      ]
     },
     "execution_count": 7,
     "metadata": {},
     "output_type": "execute_result"
    }
   ],
   "source": [
    "X_test.describe()"
   ]
  },
  {
   "cell_type": "markdown",
   "metadata": {},
   "source": [
    "### Categorical variable"
   ]
  },
  {
   "cell_type": "code",
   "execution_count": 8,
   "metadata": {},
   "outputs": [
    {
     "data": {
      "image/png": "[encoded data removed]",
      "text/plain": [
       "<Figure size 640x480 with 2 Axes>"
      ]
     },
     "metadata": {},
     "output_type": "display_data"
    }
   ],
   "source": [
    "fig, [ax1,ax2] = plt.subplots(1,2, sharey=True)\n",
    "\n",
    "counts_train = y_train.value_counts()\n",
    "counts_test = y_test.value_counts()\n",
    "\n",
    "y_t = counts_test.sort_values(ascending=True)\n",
    "\n",
    "ax1 = sns.countplot(x=y_train, ax=ax1)\n",
    "ax1.bar_label(container=ax1.containers[0], labels=counts_train)\n",
    "ax1.set_xlabel('Train')\n",
    "\n",
    "ax2 = sns.countplot(x=y_test, ax=ax2)\n",
    "ax2.bar_label(container=ax2.containers[0], labels=y_t)\n",
    "ax2.set_xlabel('Test')\n",
    "ax2.set_ylabel('')\n",
    "\n",
    "plt.show()"
   ]
  },
  {
   "cell_type": "markdown",
   "metadata": {},
   "source": [
    "### Visualizing missing data in the whole dataset"
   ]
  },
  {
   "cell_type": "code",
   "execution_count": 9,
   "metadata": {},
   "outputs": [
    {
     "data": {
      "image/png": "[encoded data removed]",
      "text/plain": [
       "<Figure size 900x300 with 1 Axes>"
      ]
     },
     "metadata": {},
     "output_type": "display_data"
    }
   ],
   "source": [
    "plt.figure(figsize=(9,3))\n",
    "sns.heatmap(sonar.isnull(), yticklabels=False, cbar=False, cmap='cividis')\n",
    "plt.title('Number of missing values: ' + str(sonar.isnull().sum().sum()))\n",
    "plt.show()"
   ]
  },
  {
   "cell_type": "markdown",
   "metadata": {},
   "source": [
    "### <font color='green'>Comment:</font> Counting the feature values in both, train and test sets makes clear that there are not missing values. To confirm, the function 'is null' in combination with a heatmap is used to visually pinpoint missing data. To conclude, no data is missing in the whole dataset. Regarding the categorical variables, the test set is well balanced, whereas in the train set there are more counts for one variable (M)."
   ]
  },
  {
   "cell_type": "markdown",
   "metadata": {},
   "source": [
    "## D) Correlation <a id='correlation'></a>"
   ]
  },
  {
   "cell_type": "code",
   "execution_count": 10,
   "metadata": {},
   "outputs": [
    {
     "data": {
      "image/png": "[encoded data removed]",
      "text/plain": [
       "<Figure size 1900x1300 with 2 Axes>"
      ]
     },
     "metadata": {},
     "output_type": "display_data"
    }
   ],
   "source": [
    "plt.figure(figsize = (19,13))\n",
    "\n",
    "corr = features.corr()\n",
    "matrix = np.triu(corr)\n",
    "ax = sns.heatmap(corr, vmin=-1, vmax=1, center=0,cmap=sns.diverging_palette(200, 6, n=200), mask=matrix)"
   ]
  },
  {
   "cell_type": "markdown",
   "metadata": {},
   "source": [
    "### <font color='green'>Comment:</font> A triangle correlation heatmap enables to quickly visualize patterns that otherwise would be difficult to see numerically while avoiding redundant information. Interestingly there is almost perfect positive correlation between pairs of neighboring features, representing high multicollinearity. It is also noticeable the patch of inverse relationships. While interpretations cannot be directly inferred, the correlation matrix serves as a powerful tool in exploratory data analysis."
   ]
  },
  {
   "cell_type": "markdown",
   "metadata": {},
   "source": [
    "## E) Error function <a id='error'></a>"
   ]
  },
  {
   "cell_type": "markdown",
   "metadata": {},
   "source": [
    "### <font color='green'>Comment:</font> A confusion matrix can be used to illustrate the performance of a classification problem based on true-positives (TP), false-positives (FP), true-negatives (TN) and false-negatives (FN). Thus, these metrics can be utilized:\n",
    "\n",
    "+ Accuracy (correct predictions over all predictions): <b>TP+TN/TP+FP+FN+TN</b>\n",
    "+ Precision (correct positive predictions over all predicted positive observations): <b>TP/TP+FP</b>\n",
    "+ Recall: (correct positive prdictions over all (actual) positives in the data): <b>TP/TP+FN </b>\n",
    "+ F1 Score =  <b>2*(Recall * Precision) / (Recall + Precision)</b>\n",
    "\n",
    "### Several evaluation criteria should be used to get a clearer understanding of the performance. For instance, Precision is a good measure to determine when the costs of FP is high, so we can answer the question: what proportion of positive predictions was actually correct? On the other hand, Recall attempts to answer what proportion of actual positives was predicted correctly. However, for the purpose of this assignment I will use the F1 score since I have an uneven class distribution in the training set."
   ]
  },
  {
   "cell_type": "markdown",
   "metadata": {},
   "source": [
    "## F) Data normalization <a id='normal'></a>"
   ]
  },
  {
   "cell_type": "markdown",
   "metadata": {},
   "source": [
    "### <font color='green'>Comment:</font> Data should be normalized in cases where there is no common scale. In this dataset, all the values fall between 0 and 1, so normalization is not needed. "
   ]
  },
  {
   "cell_type": "markdown",
   "metadata": {
    "tags": []
   },
   "source": [
    "***\n",
    "\n",
    "# 3. Logistic regression with Lasso penalization. <a id='chapter2'></a>\n",
    "\n",
    "***\n",
    "\n",
    "+ A) Parameter definition for the LogisticRegression class (<font color='green'>comment</font>)\n",
    "+ B) Create a LogisticRegression model regularised by Lasso (<font color='red'>code</font>)\n",
    "+ C) Fit logistic regression model and performance on training and testing sets (<font color='red'>code</font> and <font color='green'>comment</font>)\n",
    "+ D) Most important hyperparameter (<font color='green'>comment</font>)\n",
    "+ E) Cross-validation for hyperparameter tuning (<font color='red'>code</font> and <font color='green'>comment</font>)\n",
    "+ F) Visualizing model parameters change as a function of the hyperparameter (<font color='red'>code</font> and <font color='green'>comment</font>)\n",
    "+ G) Best possible model configuration (<font color='red'>code</font> and <font color='green'>comment</font>)"
   ]
  },
  {
   "cell_type": "markdown",
   "metadata": {},
   "source": [
    "## A) Logistic Regression object"
   ]
  },
  {
   "cell_type": "markdown",
   "metadata": {},
   "source": [
    "### <font color='green'>Comment:</font> Justification of parameters.\n",
    "\n",
    "* `penalty = L1` because LASSO works by applying L1 penalty to the loss function.\n",
    "* `dual = False` because is only for L2 penalty with liblinear solver.\n",
    "* `tol = 0.0001` because setting a large number stops the algorithm before convergence, thus I have chosen the default.\n",
    "* `C = 1` because it must be non-negative and > 0, to start, I have selected the default value.\n",
    "* `fit_intercept = True` because I want to add the bias to the decision function.\n",
    "* `intercept_scaling = False` because it is only useful when the solver is liblinear.\n",
    "* `class_weight = None` because don't want to bias the model.\n",
    "* `random_state = 1234` because the value was given by the instructions. \n",
    "* `solver='saga` because it \"guarantes\" fast convergence on features with approximately the same scale.\n",
    "* `max_iter = 10000` because first I used 100 and did not converge, thus a higher number of iterations is preferred.\n",
    "* `multi_class = 'auto` because the problem only has two class labels.\n",
    "* `verbose = 0` because don't need to see the values.\n",
    "* `warm_start = False` because don't need to use a previous solution as an initialization.\n",
    "* `n_jobs = None`, because dont't need parallelization.\n",
    "* `l1_ratio = None` because only works for elastic net penalization. "
   ]
  },
  {
   "cell_type": "markdown",
   "metadata": {},
   "source": [
    "## B) Logistic Regression model regularised by Lasso"
   ]
  },
  {
   "cell_type": "code",
   "execution_count": 11,
   "metadata": {},
   "outputs": [],
   "source": [
    "from sklearn.linear_model import LogisticRegressionCV\n",
    "from sklearn.linear_model import LogisticRegression\n",
    "from sklearn.metrics import f1_score"
   ]
  },
  {
   "cell_type": "code",
   "execution_count": 12,
   "metadata": {},
   "outputs": [],
   "source": [
    "logmodel = LogisticRegression(\n",
    "    penalty='l1',\n",
    "    dual=False,\n",
    "    tol=0.0001,\n",
    "    C=1.0,\n",
    "    fit_intercept=True,\n",
    "    intercept_scaling=False,\n",
    "    class_weight=None,\n",
    "    random_state=1234,\n",
    "    solver='saga',\n",
    "    max_iter=10000,\n",
    "    multi_class='auto',\n",
    "    verbose=0,\n",
    "    warm_start=False,\n",
    "    n_jobs=None,\n",
    "    l1_ratio=None)"
   ]
  },
  {
   "cell_type": "markdown",
   "metadata": {},
   "source": [
    "## C) Fit logmodel and performance on train and test sets"
   ]
  },
  {
   "cell_type": "code",
   "execution_count": 13,
   "metadata": {},
   "outputs": [
    {
     "name": "stdout",
     "output_type": "stream",
     "text": [
      "Perfomance on the train set: 0.8358824411455991\n",
      "Perfomance on the test set: 0.7396282719145926\n"
     ]
    }
   ],
   "source": [
    "logmodel.fit(X_train,y_train)\n",
    "predictions_train = logmodel.predict(X_train)\n",
    "predictions_test = logmodel.predict(X_test)\n",
    "print('Perfomance on the train set: ' + str(f1_score(y_train, predictions_train, average='weighted')))\n",
    "print('Perfomance on the test set: ' + str(f1_score(y_test, predictions_test, average='weighted')))"
   ]
  },
  {
   "cell_type": "markdown",
   "metadata": {},
   "source": [
    "### <font color='green'>Comment:</font> The implemented Logistic Regression baseline model obtained a F1 score of 0.83 for the train set and 0.73 for the test set. As expected, the model performs better in the training set. The predictions were averaged to 'weighted' to account for class imbalance and compute a single score for both classes."
   ]
  },
  {
   "cell_type": "markdown",
   "metadata": {},
   "source": [
    "## D) Most important hyperparameter"
   ]
  },
  {
   "cell_type": "markdown",
   "metadata": {},
   "source": [
    "### <font color='green'>Comment:</font> The most important hyperparameters is C, which  controls the amount of coefficient shrinkage. The larger the value of C the greater the amount of shrinkage. During the course, it was defined as lambda ($\\lambda$)."
   ]
  },
  {
   "cell_type": "markdown",
   "metadata": {},
   "source": [
    "## E) Cross-validation for hyperparameter tuning"
   ]
  },
  {
   "cell_type": "code",
   "execution_count": 14,
   "metadata": {},
   "outputs": [
    {
     "data": {
      "text/html": [
       "<style>#sk-container-id-1 {color: black;background-color: white;}#sk-container-id-1 pre{padding: 0;}#sk-container-id-1 div.sk-toggleable {background-color: white;}#sk-container-id-1 label.sk-toggleable__label {cursor: pointer;display: block;width: 100%;margin-bottom: 0;padding: 0.3em;box-sizing: border-box;text-align: center;}#sk-container-id-1 label.sk-toggleable__label-arrow:before {content: \"▸\";float: left;margin-right: 0.25em;color: #696969;}#sk-container-id-1 label.sk-toggleable__label-arrow:hover:before {color: black;}#sk-container-id-1 div.sk-estimator:hover label.sk-toggleable__label-arrow:before {color: black;}#sk-container-id-1 div.sk-toggleable__content {max-height: 0;max-width: 0;overflow: hidden;text-align: left;background-color: #f0f8ff;}#sk-container-id-1 div.sk-toggleable__content pre {margin: 0.2em;color: black;border-radius: 0.25em;background-color: #f0f8ff;}#sk-container-id-1 input.sk-toggleable__control:checked~div.sk-toggleable__content {max-height: 200px;max-width: 100%;overflow: auto;}#sk-container-id-1 input.sk-toggleable__control:checked~label.sk-toggleable__label-arrow:before {content: \"▾\";}#sk-container-id-1 div.sk-estimator input.sk-toggleable__control:checked~label.sk-toggleable__label {background-color: #d4ebff;}#sk-container-id-1 div.sk-label input.sk-toggleable__control:checked~label.sk-toggleable__label {background-color: #d4ebff;}#sk-container-id-1 input.sk-hidden--visually {border: 0;clip: rect(1px 1px 1px 1px);clip: rect(1px, 1px, 1px, 1px);height: 1px;margin: -1px;overflow: hidden;padding: 0;position: absolute;width: 1px;}#sk-container-id-1 div.sk-estimator {font-family: monospace;background-color: #f0f8ff;border: 1px dotted black;border-radius: 0.25em;box-sizing: border-box;margin-bottom: 0.5em;}#sk-container-id-1 div.sk-estimator:hover {background-color: #d4ebff;}#sk-container-id-1 div.sk-parallel-item::after {content: \"\";width: 100%;border-bottom: 1px solid gray;flex-grow: 1;}#sk-container-id-1 div.sk-label:hover label.sk-toggleable__label {background-color: #d4ebff;}#sk-container-id-1 div.sk-serial::before {content: \"\";position: absolute;border-left: 1px solid gray;box-sizing: border-box;top: 0;bottom: 0;left: 50%;z-index: 0;}#sk-container-id-1 div.sk-serial {display: flex;flex-direction: column;align-items: center;background-color: white;padding-right: 0.2em;padding-left: 0.2em;position: relative;}#sk-container-id-1 div.sk-item {position: relative;z-index: 1;}#sk-container-id-1 div.sk-parallel {display: flex;align-items: stretch;justify-content: center;background-color: white;position: relative;}#sk-container-id-1 div.sk-item::before, #sk-container-id-1 div.sk-parallel-item::before {content: \"\";position: absolute;border-left: 1px solid gray;box-sizing: border-box;top: 0;bottom: 0;left: 50%;z-index: -1;}#sk-container-id-1 div.sk-parallel-item {display: flex;flex-direction: column;z-index: 1;position: relative;background-color: white;}#sk-container-id-1 div.sk-parallel-item:first-child::after {align-self: flex-end;width: 50%;}#sk-container-id-1 div.sk-parallel-item:last-child::after {align-self: flex-start;width: 50%;}#sk-container-id-1 div.sk-parallel-item:only-child::after {width: 0;}#sk-container-id-1 div.sk-dashed-wrapped {border: 1px dashed gray;margin: 0 0.4em 0.5em 0.4em;box-sizing: border-box;padding-bottom: 0.4em;background-color: white;}#sk-container-id-1 div.sk-label label {font-family: monospace;font-weight: bold;display: inline-block;line-height: 1.2em;}#sk-container-id-1 div.sk-label-container {text-align: center;}#sk-container-id-1 div.sk-container {/* jupyter's `normalize.less` sets `[hidden] { display: none; }` but bootstrap.min.css set `[hidden] { display: none !important; }` so we also need the `!important` here to be able to override the default hidden behavior on the sphinx rendered scikit-learn.org. See: https://github.com/scikit-learn/scikit-learn/issues/21755 */display: inline-block !important;position: relative;}#sk-container-id-1 div.sk-text-repr-fallback {display: none;}</style><div id=\"sk-container-id-1\" class=\"sk-top-container\"><div class=\"sk-text-repr-fallback\"><pre>LogisticRegressionCV(cv=10, intercept_scaling=False, max_iter=10000,\n",
       "                     penalty=&#x27;l1&#x27;, solver=&#x27;saga&#x27;)</pre><b>In a Jupyter environment, please rerun this cell to show the HTML representation or trust the notebook. <br />On GitHub, the HTML representation is unable to render, please try loading this page with nbviewer.org.</b></div><div class=\"sk-container\" hidden><div class=\"sk-item\"><div class=\"sk-estimator sk-toggleable\"><input class=\"sk-toggleable__control sk-hidden--visually\" id=\"sk-estimator-id-1\" type=\"checkbox\" checked><label for=\"sk-estimator-id-1\" class=\"sk-toggleable__label sk-toggleable__label-arrow\">LogisticRegressionCV</label><div class=\"sk-toggleable__content\"><pre>LogisticRegressionCV(cv=10, intercept_scaling=False, max_iter=10000,\n",
       "                     penalty=&#x27;l1&#x27;, solver=&#x27;saga&#x27;)</pre></div></div></div></div></div>"
      ],
      "text/plain": [
       "LogisticRegressionCV(cv=10, intercept_scaling=False, max_iter=10000,\n",
       "                     penalty='l1', solver='saga')"
      ]
     },
     "execution_count": 14,
     "metadata": {},
     "output_type": "execute_result"
    }
   ],
   "source": [
    "logmodelCV = LogisticRegressionCV(\n",
    "    Cs=10, \n",
    "    fit_intercept=True, \n",
    "    cv=10, \n",
    "    dual=False, \n",
    "    penalty='l1', \n",
    "    scoring=None, \n",
    "    solver='saga', \n",
    "    tol=0.0001, \n",
    "    max_iter=10000, \n",
    "    class_weight=None, \n",
    "    n_jobs=None, \n",
    "    verbose=0, \n",
    "    refit=True, \n",
    "    intercept_scaling=False, \n",
    "    multi_class='auto', \n",
    "    random_state=None, \n",
    "    l1_ratios=None)\n",
    "\n",
    "logmodelCV\n",
    "logmodelCV.fit(X_train,y_train)"
   ]
  },
  {
   "cell_type": "code",
   "execution_count": 15,
   "metadata": {},
   "outputs": [
    {
     "data": {
      "text/plain": [
       "array([1.00000000e-04, 7.74263683e-04, 5.99484250e-03, 4.64158883e-02,\n",
       "       3.59381366e-01, 2.78255940e+00, 2.15443469e+01, 1.66810054e+02,\n",
       "       1.29154967e+03, 1.00000000e+04])"
      ]
     },
     "execution_count": 15,
     "metadata": {},
     "output_type": "execute_result"
    }
   ],
   "source": [
    "# Range of values in a logarithmic scale between 1e-4 and 1e4.\n",
    "\n",
    "logmodelCV.Cs_"
   ]
  },
  {
   "cell_type": "code",
   "execution_count": 16,
   "metadata": {},
   "outputs": [
    {
     "name": "stdout",
     "output_type": "stream",
     "text": [
      "Best lambda value after cross validation: 2.782559402207126\n"
     ]
    }
   ],
   "source": [
    "print('Best lambda value after cross validation: ' + str(logmodelCV.C_[0]))"
   ]
  },
  {
   "cell_type": "markdown",
   "metadata": {},
   "source": [
    "### <font color='green'>Comment:</font> Cross validation tunes the hyperparameter C to select the best value. According to the documentation, if `Cs` is as an integer, a grid of Cs values are chosen in a logarithmic scale between 1e-4 and 1e4. For this case, I have tried with the default value 10 using 10 k-fold cross validations. "
   ]
  },
  {
   "cell_type": "markdown",
   "metadata": {},
   "source": [
    "## F) Visualizing model parameters change as a function of lambda"
   ]
  },
  {
   "cell_type": "code",
   "execution_count": 17,
   "metadata": {},
   "outputs": [
    {
     "data": {
      "image/png": "[encoded data removed]",
      "text/plain": [
       "<Figure size 640x480 with 1 Axes>"
      ]
     },
     "metadata": {},
     "output_type": "display_data"
    }
   ],
   "source": [
    "lambdas = np.linspace(0.01,500,100)\n",
    "logmodel = LogisticRegression(penalty='l1',dual=False,tol=0.0001, solver='saga', max_iter=10000)\n",
    "coefs = []\n",
    "\n",
    "for l in lambdas:\n",
    "    logmodel.set_params(C=l)\n",
    "    logmodel.fit(X_train,y_train)\n",
    "    coefs.append(logmodel.coef_[0])\n",
    "    \n",
    "ax = plt.gca()\n",
    "\n",
    "ax.plot(lambdas, coefs)\n",
    "ax.set_xscale('log')\n",
    "plt.axis('tight')\n",
    "ax.invert_xaxis()\n",
    "plt.axvline(x = int(logmodelCV.C_[0]), color = 'r', label = 'Best value of C (lambda)')\n",
    "plt.xlabel('Inverse of regularization strength (C)')\n",
    "plt.ylabel('Coefficients')\n",
    "plt.legend()\n",
    "plt.title('Lasso parameters as a function of C')\n",
    "plt.show()"
   ]
  },
  {
   "cell_type": "markdown",
   "metadata": {},
   "source": [
    "### <font color='green'>Comment:</font> The plot above shows the LASSO regularization path. Meaning that, as the inverse of the regularization strength decreases, the parameters (coefficients) of the variables go to zero. This is the fundamental principle behind feature selection, so after the regularization, the features with non-zero coefficients should be considered."
   ]
  },
  {
   "cell_type": "markdown",
   "metadata": {},
   "source": [
    "## G) Train a model with the \"best possible\" configuration"
   ]
  },
  {
   "cell_type": "code",
   "execution_count": 42,
   "metadata": {},
   "outputs": [],
   "source": [
    "log_lasso_opt = LogisticRegression(\n",
    "    penalty='l1',\n",
    "    dual=False,\n",
    "    tol=0.0001,\n",
    "    C=2.782559402207126,\n",
    "    fit_intercept=True,\n",
    "    intercept_scaling=False,\n",
    "    class_weight=None,\n",
    "    random_state=1234,\n",
    "    solver='saga',\n",
    "    max_iter=10000,\n",
    "    multi_class='auto',\n",
    "    verbose=0,\n",
    "    warm_start=False,\n",
    "    n_jobs=None,\n",
    "    l1_ratio=None)"
   ]
  },
  {
   "cell_type": "code",
   "execution_count": 43,
   "metadata": {},
   "outputs": [
    {
     "name": "stdout",
     "output_type": "stream",
     "text": [
      "Perfomance on the train set: 0.873\n",
      "Perfomance on the test set: 0.767\n"
     ]
    }
   ],
   "source": [
    "log_lasso_opt.fit(X_train,y_train)\n",
    "predictions_train_log = log_lasso_opt.predict(X_train)\n",
    "predictions_test_log = log_lasso_opt.predict(X_test)\n",
    "train_log_opt = f1_score(y_train, predictions_train_log, average='weighted')\n",
    "test_log_opt = f1_score(y_test, predictions_test_log, average='weighted')\n",
    "print(f'Perfomance on the train set: {train_log_opt:.3f}')\n",
    "print(f'Perfomance on the test set: {test_log_opt:.3f}')"
   ]
  },
  {
   "cell_type": "code",
   "execution_count": 44,
   "metadata": {},
   "outputs": [
    {
     "data": {
      "text/plain": [
       "5      0.1761\n",
       "66     0.1865\n",
       "6      0.5598\n",
       "196    0.0757\n",
       "54     0.1030\n",
       "        ...  \n",
       "101    0.2361\n",
       "61     0.2804\n",
       "99     0.1052\n",
       "134    0.0569\n",
       "20     0.0576\n",
       "Name: 0, Length: 73, dtype: float64"
      ]
     },
     "execution_count": 44,
     "metadata": {},
     "output_type": "execute_result"
    }
   ],
   "source": [
    "X_test[0]"
   ]
  },
  {
   "cell_type": "markdown",
   "metadata": {},
   "source": [
    "### <font color='green'>Comment:</font> The optimal model based on cross-validation is trained. This model should have a high generalisation ability, and as expected, scores higher than the baseline model."
   ]
  },
  {
   "cell_type": "markdown",
   "metadata": {
    "tags": []
   },
   "source": [
    "# 4. Tree-based models <a id='chapter3'></a>\n",
    "\n",
    "+ A) Baseline random forest model (<font color='red'>code</font> and <font color='green'>comment</font>)\n",
    "+ B) Compute the OOB error (<font color='red'>code</font> and <font color='green'>comment</font>)\n",
    "+ C) Suitable value of n_estimators based on the OOB error (<font color='red'>code</font> and <font color='green'>comment</font>)\n",
    "+ D) Cross-validation (<font color='red'>code</font>)\n",
    "+ E) Random forest with the tuned parameters (<font color='red'>code</font> and <font color='green'>comment</font>)\n",
    "+ F) Most important features (<font color='red'>code</font> and <font color='green'>comment</font>)\n",
    "+ G) Imagine  (<font color='green'>comment</font>)"
   ]
  },
  {
   "cell_type": "markdown",
   "metadata": {
    "tags": []
   },
   "source": [
    "In this section, you will train two random forests using the Scikit-Learn library."
   ]
  },
  {
   "cell_type": "markdown",
   "metadata": {},
   "source": [
    "a) First, construct a random forest named *`rf_1`*. More specifically, you will use the [RandomForestClassifier](https://scikit-learn.org/stable/modules/generated/sklearn.ensemble.RandomForestClassifier.html#sklearn.ensemble.RandomForestClassifier) class or the [RandomForestRegressor](https://scikit-learn.org/stable/modules/generated/sklearn.ensemble.RandomForestRegressor.html#sklearn.ensemble.RandomForestRegressor) class. The constructor requires the definition of various hyperparameters. Read carefully the documentation and justify the values you will use for the hyperparameters (like in `question 2.a)`). What is the main hyperparameter other than `n_estimators` to tune?\n",
    "\n",
    "**Expected answer**: code and comment"
   ]
  },
  {
   "cell_type": "markdown",
   "metadata": {},
   "source": [
    "## A) Baseline Random Forest model"
   ]
  },
  {
   "cell_type": "markdown",
   "metadata": {},
   "source": [
    "### <font color='green'>Comment:</font> Justification of parameters.\n",
    "\n",
    "* `n_estimators = 100` to establish a baseline model. \n",
    "* `criterion = gini:` because Gini impurity is more efficient than entropy in terms of computing power.\n",
    "* `max_depth = None` So the nodes are expanded until all leaves are pure.\n",
    "* `min_samples_split = 2` So 2 samples are the mimimum required to split an internal node.\n",
    "* `min_samples_leaf = 1` So one sample is the minimum to be at a leaf node.\n",
    "* `min_weight_fraction_leaf = 0.0` becasue don't want to bias the model with higher weights.\n",
    "* `max_features = 'sqrt'` so the number of features to consider for splitting a node are *sqrt(n_features) = 10*.\n",
    "* `max_leaf_nodes = None` so unlimited number of leaf nodes grow.\n",
    "* `min_impurity_decrease = 0.0` because a node will be split if the impurity is greater than or equal to 0.\n",
    "* `bootstrap = True` because bootstrap samples for building trees allow to compute the oob score.\n",
    "* `oob_score = True` to get an estimate of the generalization score.\n",
    "* `n_jobs = None` because dont't need parallelization.\n",
    "* `random_state = None` because the value was given by the instructions.\n",
    "* `verbose = 0` because I dont need to print the details.\n",
    "* `warm_start = False` so the mode starts from scratch.\n",
    "* `class_weight=None` although there is a small class imbalance, I dont want to bias the model.\n",
    "* `ccp_alpha = 0.0`, because I haven't run *cost_complexity_pruning_path* for selecting the best value, so I use the default.\n",
    "* `max_samples = None` so X_train.shape[0] is the max number of samples that can be considered.\n",
    "\n",
    "### The main parameter to tune appart from n_estimators is max_features"
   ]
  },
  {
   "cell_type": "code",
   "execution_count": 28,
   "metadata": {},
   "outputs": [],
   "source": [
    "from sklearn.ensemble import RandomForestClassifier\n",
    "from sklearn.model_selection import GridSearchCV\n",
    "from sklearn.inspection import permutation_importance\n",
    "from sklearn.metrics import confusion_matrix, ConfusionMatrixDisplay"
   ]
  },
  {
   "cell_type": "code",
   "execution_count": 29,
   "metadata": {},
   "outputs": [],
   "source": [
    "rf_1 = RandomForestClassifier(\n",
    "    n_estimators=100,\n",
    "    criterion='gini', \n",
    "    max_depth=None, \n",
    "    min_samples_split=2, \n",
    "    min_samples_leaf=1, \n",
    "    min_weight_fraction_leaf=0.0, \n",
    "    max_features='sqrt', \n",
    "    max_leaf_nodes=None, \n",
    "    min_impurity_decrease=0.0, \n",
    "    bootstrap=True, \n",
    "    oob_score=True, \n",
    "    n_jobs=None, \n",
    "    random_state=1234, \n",
    "    verbose=0, \n",
    "    warm_start=True, \n",
    "    class_weight=None, \n",
    "    ccp_alpha=0.0, \n",
    "    max_samples=None)"
   ]
  },
  {
   "cell_type": "code",
   "execution_count": 30,
   "metadata": {},
   "outputs": [
    {
     "data": {
      "text/html": [
       "<style>#sk-container-id-4 {color: black;background-color: white;}#sk-container-id-4 pre{padding: 0;}#sk-container-id-4 div.sk-toggleable {background-color: white;}#sk-container-id-4 label.sk-toggleable__label {cursor: pointer;display: block;width: 100%;margin-bottom: 0;padding: 0.3em;box-sizing: border-box;text-align: center;}#sk-container-id-4 label.sk-toggleable__label-arrow:before {content: \"▸\";float: left;margin-right: 0.25em;color: #696969;}#sk-container-id-4 label.sk-toggleable__label-arrow:hover:before {color: black;}#sk-container-id-4 div.sk-estimator:hover label.sk-toggleable__label-arrow:before {color: black;}#sk-container-id-4 div.sk-toggleable__content {max-height: 0;max-width: 0;overflow: hidden;text-align: left;background-color: #f0f8ff;}#sk-container-id-4 div.sk-toggleable__content pre {margin: 0.2em;color: black;border-radius: 0.25em;background-color: #f0f8ff;}#sk-container-id-4 input.sk-toggleable__control:checked~div.sk-toggleable__content {max-height: 200px;max-width: 100%;overflow: auto;}#sk-container-id-4 input.sk-toggleable__control:checked~label.sk-toggleable__label-arrow:before {content: \"▾\";}#sk-container-id-4 div.sk-estimator input.sk-toggleable__control:checked~label.sk-toggleable__label {background-color: #d4ebff;}#sk-container-id-4 div.sk-label input.sk-toggleable__control:checked~label.sk-toggleable__label {background-color: #d4ebff;}#sk-container-id-4 input.sk-hidden--visually {border: 0;clip: rect(1px 1px 1px 1px);clip: rect(1px, 1px, 1px, 1px);height: 1px;margin: -1px;overflow: hidden;padding: 0;position: absolute;width: 1px;}#sk-container-id-4 div.sk-estimator {font-family: monospace;background-color: #f0f8ff;border: 1px dotted black;border-radius: 0.25em;box-sizing: border-box;margin-bottom: 0.5em;}#sk-container-id-4 div.sk-estimator:hover {background-color: #d4ebff;}#sk-container-id-4 div.sk-parallel-item::after {content: \"\";width: 100%;border-bottom: 1px solid gray;flex-grow: 1;}#sk-container-id-4 div.sk-label:hover label.sk-toggleable__label {background-color: #d4ebff;}#sk-container-id-4 div.sk-serial::before {content: \"\";position: absolute;border-left: 1px solid gray;box-sizing: border-box;top: 0;bottom: 0;left: 50%;z-index: 0;}#sk-container-id-4 div.sk-serial {display: flex;flex-direction: column;align-items: center;background-color: white;padding-right: 0.2em;padding-left: 0.2em;position: relative;}#sk-container-id-4 div.sk-item {position: relative;z-index: 1;}#sk-container-id-4 div.sk-parallel {display: flex;align-items: stretch;justify-content: center;background-color: white;position: relative;}#sk-container-id-4 div.sk-item::before, #sk-container-id-4 div.sk-parallel-item::before {content: \"\";position: absolute;border-left: 1px solid gray;box-sizing: border-box;top: 0;bottom: 0;left: 50%;z-index: -1;}#sk-container-id-4 div.sk-parallel-item {display: flex;flex-direction: column;z-index: 1;position: relative;background-color: white;}#sk-container-id-4 div.sk-parallel-item:first-child::after {align-self: flex-end;width: 50%;}#sk-container-id-4 div.sk-parallel-item:last-child::after {align-self: flex-start;width: 50%;}#sk-container-id-4 div.sk-parallel-item:only-child::after {width: 0;}#sk-container-id-4 div.sk-dashed-wrapped {border: 1px dashed gray;margin: 0 0.4em 0.5em 0.4em;box-sizing: border-box;padding-bottom: 0.4em;background-color: white;}#sk-container-id-4 div.sk-label label {font-family: monospace;font-weight: bold;display: inline-block;line-height: 1.2em;}#sk-container-id-4 div.sk-label-container {text-align: center;}#sk-container-id-4 div.sk-container {/* jupyter's `normalize.less` sets `[hidden] { display: none; }` but bootstrap.min.css set `[hidden] { display: none !important; }` so we also need the `!important` here to be able to override the default hidden behavior on the sphinx rendered scikit-learn.org. See: https://github.com/scikit-learn/scikit-learn/issues/21755 */display: inline-block !important;position: relative;}#sk-container-id-4 div.sk-text-repr-fallback {display: none;}</style><div id=\"sk-container-id-4\" class=\"sk-top-container\"><div class=\"sk-text-repr-fallback\"><pre>RandomForestClassifier(oob_score=True, random_state=1234, warm_start=True)</pre><b>In a Jupyter environment, please rerun this cell to show the HTML representation or trust the notebook. <br />On GitHub, the HTML representation is unable to render, please try loading this page with nbviewer.org.</b></div><div class=\"sk-container\" hidden><div class=\"sk-item\"><div class=\"sk-estimator sk-toggleable\"><input class=\"sk-toggleable__control sk-hidden--visually\" id=\"sk-estimator-id-4\" type=\"checkbox\" checked><label for=\"sk-estimator-id-4\" class=\"sk-toggleable__label sk-toggleable__label-arrow\">RandomForestClassifier</label><div class=\"sk-toggleable__content\"><pre>RandomForestClassifier(oob_score=True, random_state=1234, warm_start=True)</pre></div></div></div></div></div>"
      ],
      "text/plain": [
       "RandomForestClassifier(oob_score=True, random_state=1234, warm_start=True)"
      ]
     },
     "execution_count": 30,
     "metadata": {},
     "output_type": "execute_result"
    }
   ],
   "source": [
    "rf_1.fit(X_train,y_train)"
   ]
  },
  {
   "cell_type": "code",
   "execution_count": 31,
   "metadata": {},
   "outputs": [
    {
     "name": "stdout",
     "output_type": "stream",
     "text": [
      "Perfomance on the train set: 1.000\n",
      "Perfomance on the test set: 0.781\n"
     ]
    }
   ],
   "source": [
    "predictions_train_rf_1 = rf_1.predict(X_train)\n",
    "predictions_test_rf_1 = rf_1.predict(X_test)\n",
    "train_score = f1_score(y_train, predictions_train_rf_1, average='weighted')\n",
    "test_score = f1_score(y_test, predictions_test_rf_1, average='weighted')\n",
    "print(f'Perfomance on the train set: {train_score:.3f}')\n",
    "print(f'Perfomance on the test set: {test_score:.3f}')"
   ]
  },
  {
   "cell_type": "markdown",
   "metadata": {},
   "source": [
    "## B) Compute the OOB error"
   ]
  },
  {
   "cell_type": "code",
   "execution_count": 32,
   "metadata": {},
   "outputs": [
    {
     "name": "stdout",
     "output_type": "stream",
     "text": [
      "OOB error: 0.185\n"
     ]
    }
   ],
   "source": [
    "print(f'OOB error: {(1 - rf_1.oob_score_):.3f}')"
   ]
  },
  {
   "cell_type": "markdown",
   "metadata": {},
   "source": [
    "### <font color='green'>Comment:</font> The OOB score represents the number of correct predictions from the out-of-bag sample (accuracy). The error is simply 1 - accuracy, and represents the prediction error of the Random Forest model using bootstrapping. "
   ]
  },
  {
   "cell_type": "markdown",
   "metadata": {},
   "source": [
    "## C) Suitable value of n_estimators based on the OOB error"
   ]
  },
  {
   "cell_type": "code",
   "execution_count": 33,
   "metadata": {},
   "outputs": [
    {
     "data": {
      "image/png": "[encoded data removed]",
      "text/plain": [
       "<Figure size 640x480 with 1 Axes>"
      ]
     },
     "metadata": {},
     "output_type": "display_data"
    }
   ],
   "source": [
    "error_rate = []\n",
    "\n",
    "min_estimators = 40\n",
    "max_estimators = 400\n",
    "step=10\n",
    "\n",
    "for i in range(min_estimators, max_estimators+1, step):\n",
    "    rf = RandomForestClassifier(warm_start=True, n_estimators=i, max_features='sqrt',random_state=1234, oob_score=True)\n",
    "    rf.fit(X_train,y_train)\n",
    "    oob_error = 1 - rf.oob_score_\n",
    "    error_rate.append(oob_error)\n",
    "    \n",
    "\n",
    "plt.plot(range(min_estimators, max_estimators +1, step), error_rate, label='OOB error rate')\n",
    "plt.ylim(0, 1.5*max(error_rate)) \n",
    "plt.xlim(min_estimators, max_estimators)\n",
    "plt.xlabel('n_estimators')\n",
    "plt.ylabel('OOB error rate')\n",
    "plt.legend()\n",
    "plt.show()"
   ]
  },
  {
   "cell_type": "markdown",
   "metadata": {},
   "source": [
    "### <font color='green'>Comment:</font> The suitable number of n_estimators can be determined based on the stabilization of the OOB error. For instance, in this example and by visual interpretation, seems that 250 n_estimators should be considered."
   ]
  },
  {
   "cell_type": "markdown",
   "metadata": {},
   "source": [
    "## D) Cross-validation"
   ]
  },
  {
   "cell_type": "code",
   "execution_count": 34,
   "metadata": {},
   "outputs": [],
   "source": [
    " param_grid = {'n_estimators': [int(x) for x in np.linspace(50,400,8)],\n",
    "        'max_features': ['sqrt', 'log2'],\n",
    "        'max_depth': [None, 2, 8],\n",
    "        'min_samples_split': [2, 5, 10],\n",
    "        'min_samples_leaf': [1, 5, 10],\n",
    "        'criterion': ['gini', 'entropy', 'log_loss'],\n",
    "        'bootstrap': [True],\n",
    "        'oob_score': [False,True],\n",
    "        'random_state':[1234],\n",
    "        }"
   ]
  },
  {
   "cell_type": "markdown",
   "metadata": {},
   "source": [
    "<div class=\"alert alert-block alert-warning\"><b>Warning! Running Grid Search Cross Validation can take some time </b>  </div>"
   ]
  },
  {
   "cell_type": "code",
   "execution_count": 35,
   "metadata": {},
   "outputs": [
    {
     "name": "stdout",
     "output_type": "stream",
     "text": [
      "Fitting 5 folds for each of 2592 candidates, totalling 12960 fits\n"
     ]
    },
    {
     "data": {
      "text/html": [
       "<style>#sk-container-id-5 {color: black;background-color: white;}#sk-container-id-5 pre{padding: 0;}#sk-container-id-5 div.sk-toggleable {background-color: white;}#sk-container-id-5 label.sk-toggleable__label {cursor: pointer;display: block;width: 100%;margin-bottom: 0;padding: 0.3em;box-sizing: border-box;text-align: center;}#sk-container-id-5 label.sk-toggleable__label-arrow:before {content: \"▸\";float: left;margin-right: 0.25em;color: #696969;}#sk-container-id-5 label.sk-toggleable__label-arrow:hover:before {color: black;}#sk-container-id-5 div.sk-estimator:hover label.sk-toggleable__label-arrow:before {color: black;}#sk-container-id-5 div.sk-toggleable__content {max-height: 0;max-width: 0;overflow: hidden;text-align: left;background-color: #f0f8ff;}#sk-container-id-5 div.sk-toggleable__content pre {margin: 0.2em;color: black;border-radius: 0.25em;background-color: #f0f8ff;}#sk-container-id-5 input.sk-toggleable__control:checked~div.sk-toggleable__content {max-height: 200px;max-width: 100%;overflow: auto;}#sk-container-id-5 input.sk-toggleable__control:checked~label.sk-toggleable__label-arrow:before {content: \"▾\";}#sk-container-id-5 div.sk-estimator input.sk-toggleable__control:checked~label.sk-toggleable__label {background-color: #d4ebff;}#sk-container-id-5 div.sk-label input.sk-toggleable__control:checked~label.sk-toggleable__label {background-color: #d4ebff;}#sk-container-id-5 input.sk-hidden--visually {border: 0;clip: rect(1px 1px 1px 1px);clip: rect(1px, 1px, 1px, 1px);height: 1px;margin: -1px;overflow: hidden;padding: 0;position: absolute;width: 1px;}#sk-container-id-5 div.sk-estimator {font-family: monospace;background-color: #f0f8ff;border: 1px dotted black;border-radius: 0.25em;box-sizing: border-box;margin-bottom: 0.5em;}#sk-container-id-5 div.sk-estimator:hover {background-color: #d4ebff;}#sk-container-id-5 div.sk-parallel-item::after {content: \"\";width: 100%;border-bottom: 1px solid gray;flex-grow: 1;}#sk-container-id-5 div.sk-label:hover label.sk-toggleable__label {background-color: #d4ebff;}#sk-container-id-5 div.sk-serial::before {content: \"\";position: absolute;border-left: 1px solid gray;box-sizing: border-box;top: 0;bottom: 0;left: 50%;z-index: 0;}#sk-container-id-5 div.sk-serial {display: flex;flex-direction: column;align-items: center;background-color: white;padding-right: 0.2em;padding-left: 0.2em;position: relative;}#sk-container-id-5 div.sk-item {position: relative;z-index: 1;}#sk-container-id-5 div.sk-parallel {display: flex;align-items: stretch;justify-content: center;background-color: white;position: relative;}#sk-container-id-5 div.sk-item::before, #sk-container-id-5 div.sk-parallel-item::before {content: \"\";position: absolute;border-left: 1px solid gray;box-sizing: border-box;top: 0;bottom: 0;left: 50%;z-index: -1;}#sk-container-id-5 div.sk-parallel-item {display: flex;flex-direction: column;z-index: 1;position: relative;background-color: white;}#sk-container-id-5 div.sk-parallel-item:first-child::after {align-self: flex-end;width: 50%;}#sk-container-id-5 div.sk-parallel-item:last-child::after {align-self: flex-start;width: 50%;}#sk-container-id-5 div.sk-parallel-item:only-child::after {width: 0;}#sk-container-id-5 div.sk-dashed-wrapped {border: 1px dashed gray;margin: 0 0.4em 0.5em 0.4em;box-sizing: border-box;padding-bottom: 0.4em;background-color: white;}#sk-container-id-5 div.sk-label label {font-family: monospace;font-weight: bold;display: inline-block;line-height: 1.2em;}#sk-container-id-5 div.sk-label-container {text-align: center;}#sk-container-id-5 div.sk-container {/* jupyter's `normalize.less` sets `[hidden] { display: none; }` but bootstrap.min.css set `[hidden] { display: none !important; }` so we also need the `!important` here to be able to override the default hidden behavior on the sphinx rendered scikit-learn.org. See: https://github.com/scikit-learn/scikit-learn/issues/21755 */display: inline-block !important;position: relative;}#sk-container-id-5 div.sk-text-repr-fallback {display: none;}</style><div id=\"sk-container-id-5\" class=\"sk-top-container\"><div class=\"sk-text-repr-fallback\"><pre>GridSearchCV(cv=5, estimator=RandomForestClassifier(), n_jobs=-1,\n",
       "             param_grid={&#x27;bootstrap&#x27;: [True],\n",
       "                         &#x27;criterion&#x27;: [&#x27;gini&#x27;, &#x27;entropy&#x27;, &#x27;log_loss&#x27;],\n",
       "                         &#x27;max_depth&#x27;: [None, 2, 8],\n",
       "                         &#x27;max_features&#x27;: [&#x27;sqrt&#x27;, &#x27;log2&#x27;],\n",
       "                         &#x27;min_samples_leaf&#x27;: [1, 5, 10],\n",
       "                         &#x27;min_samples_split&#x27;: [2, 5, 10],\n",
       "                         &#x27;n_estimators&#x27;: [50, 100, 150, 200, 250, 300, 350,\n",
       "                                          400],\n",
       "                         &#x27;oob_score&#x27;: [False, True], &#x27;random_state&#x27;: [1234]},\n",
       "             verbose=1)</pre><b>In a Jupyter environment, please rerun this cell to show the HTML representation or trust the notebook. <br />On GitHub, the HTML representation is unable to render, please try loading this page with nbviewer.org.</b></div><div class=\"sk-container\" hidden><div class=\"sk-item sk-dashed-wrapped\"><div class=\"sk-label-container\"><div class=\"sk-label sk-toggleable\"><input class=\"sk-toggleable__control sk-hidden--visually\" id=\"sk-estimator-id-5\" type=\"checkbox\" ><label for=\"sk-estimator-id-5\" class=\"sk-toggleable__label sk-toggleable__label-arrow\">GridSearchCV</label><div class=\"sk-toggleable__content\"><pre>GridSearchCV(cv=5, estimator=RandomForestClassifier(), n_jobs=-1,\n",
       "             param_grid={&#x27;bootstrap&#x27;: [True],\n",
       "                         &#x27;criterion&#x27;: [&#x27;gini&#x27;, &#x27;entropy&#x27;, &#x27;log_loss&#x27;],\n",
       "                         &#x27;max_depth&#x27;: [None, 2, 8],\n",
       "                         &#x27;max_features&#x27;: [&#x27;sqrt&#x27;, &#x27;log2&#x27;],\n",
       "                         &#x27;min_samples_leaf&#x27;: [1, 5, 10],\n",
       "                         &#x27;min_samples_split&#x27;: [2, 5, 10],\n",
       "                         &#x27;n_estimators&#x27;: [50, 100, 150, 200, 250, 300, 350,\n",
       "                                          400],\n",
       "                         &#x27;oob_score&#x27;: [False, True], &#x27;random_state&#x27;: [1234]},\n",
       "             verbose=1)</pre></div></div></div><div class=\"sk-parallel\"><div class=\"sk-parallel-item\"><div class=\"sk-item\"><div class=\"sk-label-container\"><div class=\"sk-label sk-toggleable\"><input class=\"sk-toggleable__control sk-hidden--visually\" id=\"sk-estimator-id-6\" type=\"checkbox\" ><label for=\"sk-estimator-id-6\" class=\"sk-toggleable__label sk-toggleable__label-arrow\">estimator: RandomForestClassifier</label><div class=\"sk-toggleable__content\"><pre>RandomForestClassifier()</pre></div></div></div><div class=\"sk-serial\"><div class=\"sk-item\"><div class=\"sk-estimator sk-toggleable\"><input class=\"sk-toggleable__control sk-hidden--visually\" id=\"sk-estimator-id-7\" type=\"checkbox\" ><label for=\"sk-estimator-id-7\" class=\"sk-toggleable__label sk-toggleable__label-arrow\">RandomForestClassifier</label><div class=\"sk-toggleable__content\"><pre>RandomForestClassifier()</pre></div></div></div></div></div></div></div></div></div></div>"
      ],
      "text/plain": [
       "GridSearchCV(cv=5, estimator=RandomForestClassifier(), n_jobs=-1,\n",
       "             param_grid={'bootstrap': [True],\n",
       "                         'criterion': ['gini', 'entropy', 'log_loss'],\n",
       "                         'max_depth': [None, 2, 8],\n",
       "                         'max_features': ['sqrt', 'log2'],\n",
       "                         'min_samples_leaf': [1, 5, 10],\n",
       "                         'min_samples_split': [2, 5, 10],\n",
       "                         'n_estimators': [50, 100, 150, 200, 250, 300, 350,\n",
       "                                          400],\n",
       "                         'oob_score': [False, True], 'random_state': [1234]},\n",
       "             verbose=1)"
      ]
     },
     "execution_count": 35,
     "metadata": {},
     "output_type": "execute_result"
    }
   ],
   "source": [
    "rf_Model = RandomForestClassifier()\n",
    "rf_grid = GridSearchCV(estimator = rf_Model, param_grid = param_grid, cv = 5, verbose=1, n_jobs = -1)\n",
    "rf_grid.fit(X_train, y_train)"
   ]
  },
  {
   "cell_type": "code",
   "execution_count": 36,
   "metadata": {},
   "outputs": [
    {
     "data": {
      "text/plain": [
       "{'bootstrap': True,\n",
       " 'criterion': 'gini',\n",
       " 'max_depth': 8,\n",
       " 'max_features': 'log2',\n",
       " 'min_samples_leaf': 1,\n",
       " 'min_samples_split': 2,\n",
       " 'n_estimators': 350,\n",
       " 'oob_score': False,\n",
       " 'random_state': 1234}"
      ]
     },
     "execution_count": 36,
     "metadata": {},
     "output_type": "execute_result"
    }
   ],
   "source": [
    "# Best parameters\n",
    "\n",
    "rf_grid.best_params_"
   ]
  },
  {
   "cell_type": "markdown",
   "metadata": {},
   "source": [
    "## E) Random forest with tuned parameters"
   ]
  },
  {
   "cell_type": "code",
   "execution_count": 37,
   "metadata": {},
   "outputs": [
    {
     "name": "stdout",
     "output_type": "stream",
     "text": [
      "Performance on the train set: 1.000\n",
      "Performance on the test set: 0.795\n"
     ]
    }
   ],
   "source": [
    "rf_opt = RandomForestClassifier(\n",
    "    n_estimators=350,\n",
    "    criterion='gini', \n",
    "    max_depth=8, \n",
    "    min_samples_split=2, \n",
    "    min_samples_leaf=1,  \n",
    "    max_features='log2', \n",
    "    bootstrap=True, \n",
    "    oob_score=False, \n",
    "    random_state=1234)\n",
    "\n",
    "rf_opt.fit(X_train, y_train)\n",
    "\n",
    "predictions_train_rf_opt = rf_opt.predict(X_train)\n",
    "predictions_test_rf_opt = rf_opt.predict(X_test)\n",
    "train_score_opt = f1_score(y_train, predictions_train_rf_opt, average='weighted')\n",
    "test_score_opt = f1_score(y_test, predictions_test_rf_opt, average='weighted')\n",
    "print(f'Performance on the train set: {train_score_opt:.3f}')\n",
    "print(f'Performance on the test set: {test_score_opt:.3f}')"
   ]
  },
  {
   "cell_type": "markdown",
   "metadata": {},
   "source": [
    "### <font color='green'>Comment:</font> Although the performance of the most suitable configuration did not increase significatively, this model outperforms the baseline and is therefore selected as the optimal one."
   ]
  },
  {
   "cell_type": "markdown",
   "metadata": {},
   "source": [
    "## F) Most important features"
   ]
  },
  {
   "cell_type": "code",
   "execution_count": 39,
   "metadata": {},
   "outputs": [
    {
     "data": {
      "image/png": "[encoded data removed]",
      "text/plain": [
       "<Figure size 700x400 with 1 Axes>"
      ]
     },
     "metadata": {},
     "output_type": "display_data"
    }
   ],
   "source": [
    "importance = permutation_importance(rf_opt, X_test, y_test, n_repeats=10, random_state=1234, n_jobs=2)\n",
    "sort = importance.importances_mean.argsort()\n",
    "invert_sort=sort[::-1][:5]\n",
    "\n",
    "fig, ax = plt.subplots(figsize=(7,4))\n",
    "box = ax.boxplot(importance.importances[invert_sort].T, vert=True, patch_artist=True, labels=X_test.columns[invert_sort])\n",
    "ax.set_title('Features with highest Mean Decrease in Accuracy')\n",
    "ax.set_xlabel('Features')\n",
    "ax.set_ylabel('Mean Decrease in Accuracy')\n",
    "fig.tight_layout()\n",
    "\n",
    "for i in box['boxes']:\n",
    "    i.set_facecolor('lightblue')\n",
    "\n",
    "for median in box['medians']:\n",
    "    median.set_color('red')\n",
    "\n",
    "plt.show()"
   ]
  },
  {
   "cell_type": "markdown",
   "metadata": {},
   "source": [
    "### <font color='green'>Comment:</font> This boxplot is relevant for feature selection. It shows the importance of the variables for classification. The higher the value in the Mean Decrease Accuracy plot, the higher the importance of the feature. In other words, by leaving out these features, the model losses accuracy thus becoming less skillfull at classifying the data. "
   ]
  },
  {
   "cell_type": "markdown",
   "metadata": {},
   "source": [
    "## G) Imagine - steps for a new RF model"
   ]
  },
  {
   "cell_type": "markdown",
   "metadata": {},
   "source": [
    "### <font color='green'>Comment:</font> The steps could be\n",
    "\n",
    "- Step 1 \"*Problem definition*\": Define the purpose of the model (regression vs classification)\n",
    "- Step 2 \"*Rethink if a subset model is worth it*\": Define why decreasing the number of features is important.\n",
    "- Step 3 \"*Create a subset dataset with the most important features*\"\n",
    "- Step 4 \"*Split it into train and test sets*\"\n",
    "- Step 5 \"*Create a new random forest classifier*\"\n",
    "- Step 6 \"*Train the new classifier using the train set*\"\n",
    "- Step 7 \"*Apply the classifier to the test set*\"\n",
    "- Step 8 \"*Compare the accuracy of the full dataset vs subset dataset*\""
   ]
  },
  {
   "cell_type": "markdown",
   "metadata": {},
   "source": [
    "## 5. Model comparison <a id='chapter4'></a>"
   ]
  },
  {
   "cell_type": "markdown",
   "metadata": {},
   "source": [
    "+ A) Confusion Matrix (<font color='red'>code</font> and <font color='green'>comment</font>)\n",
    "+ B) Compare perfomance (<font color='red'>code</font> and <font color='green'>comment</font>)\n",
    "+ C) Compare features (<font color='red'>code</font> and <font color='green'>comment</font>)\n",
    "+ D) Select a model (<font color='green'>comment</font>)\n",
    "+ E) Further work (<font color='green'>comment</font>)"
   ]
  },
  {
   "cell_type": "markdown",
   "metadata": {},
   "source": [
    "## A) Confusion Matrix"
   ]
  },
  {
   "cell_type": "code",
   "execution_count": 45,
   "metadata": {},
   "outputs": [
    {
     "data": {
      "image/png": "[encoded data removed]",
      "text/plain": [
       "<Figure size 640x480 with 2 Axes>"
      ]
     },
     "metadata": {},
     "output_type": "display_data"
    }
   ],
   "source": [
    "cm_log = confusion_matrix(y_test, predictions_test_log, labels=log_lasso_opt.classes_)\n",
    "disp_log = ConfusionMatrixDisplay(confusion_matrix=cm_log,display_labels=log_lasso_opt.classes_)\n",
    "\n",
    "cm_rf = confusion_matrix(y_test, predictions_test_rf_opt, labels=rf_opt.classes_)\n",
    "disp_rf = ConfusionMatrixDisplay(confusion_matrix=cm_rf,display_labels=rf_opt.classes_)\n",
    "\n",
    "\n",
    "fig,[ax1,ax2] = plt.subplots(1,2, sharey=True)\n",
    "\n",
    "fig.suptitle('Confusion Matrices', fontsize=12)\n",
    "fig.subplots_adjust(top=1.1)\n",
    "\n",
    "disp_log.plot(ax=ax1, colorbar=False, cmap='Blues')\n",
    "ax1.set_title('Logistic regression')\n",
    "\n",
    "\n",
    "disp_rf.plot(ax=ax2, colorbar=False, cmap='Blues')\n",
    "ax2.set_title('Random Forest')\n",
    "ax2.set_ylabel('')\n",
    "plt.show()"
   ]
  },
  {
   "cell_type": "markdown",
   "metadata": {},
   "source": [
    "### <font color='green'>Comment:</font> The confusion matrix represents the accuracy of the classification algorithms, where:\n",
    "\n",
    "+ True Negative (top-left quadrant)\n",
    "+ False Positive (top-right quadrant)\n",
    "+ False Negative (bottom-left quadrant)\n",
    "+ True Positive (bottom-right quadrant)\n",
    "\n",
    "### Both, Logistic Regression and Random Forest correctly predicted the rock category 29 times (True positive). The difference however is that Random Forest had less errors in misclassifying the mines (metal) accounting for 7 False positives vs 9 by Logistic Regression."
   ]
  },
  {
   "cell_type": "markdown",
   "metadata": {},
   "source": [
    "## B) Compare perfomance"
   ]
  },
  {
   "cell_type": "code",
   "execution_count": 46,
   "metadata": {},
   "outputs": [
    {
     "name": "stdout",
     "output_type": "stream",
     "text": [
      "Performance of Random Forest on the train set: 1.000\n",
      "Performance of Random Forest on the test set: 0.795\n",
      " \n",
      "Perfomance of Logistic Regression on the train set: 0.873\n",
      "Perfomance of Logistic Regression on the test set: 0.767\n"
     ]
    }
   ],
   "source": [
    "print(f'Performance of Random Forest on the train set: {train_score_opt:.3f}')\n",
    "print(f'Performance of Random Forest on the test set: {test_score_opt:.3f}')\n",
    "print(' ')\n",
    "print(f'Perfomance of Logistic Regression on the train set: {train_log_opt:.3f}')\n",
    "print(f'Perfomance of Logistic Regression on the test set: {test_log_opt:.3f}')"
   ]
  },
  {
   "cell_type": "markdown",
   "metadata": {
    "tags": []
   },
   "source": [
    "### <font color='green'>Comment:</font> Comparing the performance of the models by means of the F1 score makes evident that Random Forest scores higher in both, the train and test sets."
   ]
  },
  {
   "cell_type": "markdown",
   "metadata": {},
   "source": [
    "## C) Compare features"
   ]
  },
  {
   "cell_type": "code",
   "execution_count": 47,
   "metadata": {},
   "outputs": [
    {
     "name": "stdout",
     "output_type": "stream",
     "text": [
      "The 5 most important features according to Logistic Regression (LASSO) are: [ 2 11 36 13 27]\n"
     ]
    }
   ],
   "source": [
    "importance_lasso = permutation_importance(log_lasso_opt, X_test, y_test, n_repeats=10, random_state=1234, n_jobs=2)\n",
    "sort_lasso = importance_lasso.importances_mean.argsort()\n",
    "invert_sort_lasso = sort_lasso[::-1][:5]\n",
    "print('The 5 most important features according to Logistic Regression (LASSO) are: ' + str(invert_sort_lasso))"
   ]
  },
  {
   "cell_type": "code",
   "execution_count": 48,
   "metadata": {},
   "outputs": [
    {
     "name": "stdout",
     "output_type": "stream",
     "text": [
      "The 5 most important features according to Random Forest are: [ 2  0  1 40 36]\n"
     ]
    }
   ],
   "source": [
    "importance_rf = permutation_importance(rf_opt, X_test, y_test, n_repeats=10, random_state=1234, n_jobs=2)\n",
    "sort_rf = importance_rf.importances_mean.argsort()\n",
    "invert_sort_rf = sort_rf[::-1][:5]\n",
    "print('The 5 most important features according to Random Forest are: ' + str(invert_sort_rf))"
   ]
  },
  {
   "cell_type": "markdown",
   "metadata": {},
   "source": [
    "### <font color='green'>Comment:</font> At first look it seems that there is no noticeable difference among the importance of the features. However, through feature selection it has become evident the the predictor number 2 is the most important according to both models. Another predictor of high importance where the models agree is the number 36. "
   ]
  },
  {
   "cell_type": "markdown",
   "metadata": {},
   "source": [
    "## D) Select a model"
   ]
  },
  {
   "cell_type": "markdown",
   "metadata": {},
   "source": [
    "### <font color='green'>Comment:</font> Although a more-in depth analysis is needed to reach a conclusion, for this particular problem and dataset I choose the Random Forest model. Seems that its ability to handle non-linearities in the data enables to obtain a higher score in the test set."
   ]
  },
  {
   "cell_type": "markdown",
   "metadata": {},
   "source": [
    "## F) Further work"
   ]
  },
  {
   "cell_type": "markdown",
   "metadata": {},
   "source": [
    "### <font color='green'>Comment:</font> For Logistic Regression:\n",
    "\n",
    "+ Test a more in-depth grid search instead of simply performing cross validation for identifying the optimal lambda value\n",
    "+ Compare the performance of the models using Ridge and Elastic Net regularizations\n",
    "+ Implement logistic regression with SDG optimization\n",
    "+ Logistic regression vs perceptron\n",
    "\n",
    "### <font color='green'>Comment:</font> For Random Forest:\n",
    "\n",
    "+ Random Forest vs XGBoost\n"
   ]
  }
 ],
 "metadata": {
  "kernelspec": {
   "display_name": "UBS",
   "language": "python",
   "name": "ubs"
  },
  "language_info": {
   "codemirror_mode": {
    "name": "ipython",
    "version": 3
   },
   "file_extension": ".py",
   "mimetype": "text/x-python",
   "name": "python",
   "nbconvert_exporter": "python",
   "pygments_lexer": "ipython3",
   "version": "3.10.6"
  }
 },
 "nbformat": 4,
 "nbformat_minor": 4
}
