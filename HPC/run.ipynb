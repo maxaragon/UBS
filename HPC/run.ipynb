{
 "cells": [
  {
   "cell_type": "code",
   "execution_count": 3,
   "metadata": {},
   "outputs": [
    {
     "name": "stdout",
     "output_type": "stream",
     "text": [
      "2020-04-15 04:17:45 1968920146 SEVIR_IR069_RANDOMEVENTS_2018_0101_0430.h5\n",
      "2020-04-15 04:17:45 7832316016 SEVIR_IR069_RANDOMEVENTS_2018_0501_0831.h5\n",
      "2020-04-15 04:17:45 7846766776 SEVIR_IR069_RANDOMEVENTS_2018_0901_1231.h5\n",
      "2020-04-15 04:17:45 3009368202 SEVIR_IR069_STORMEVENTS_2018_0101_0630.h5\n",
      "2020-04-15 04:17:45 3265868624 SEVIR_IR069_STORMEVENTS_2018_0701_1231.h5\n"
     ]
    }
   ],
   "source": [
    "# List available files\n",
    "\n",
    "!aws s3 ls s3://sevir/data/ir069/2018/"
   ]
  },
  {
   "cell_type": "code",
   "execution_count": 4,
   "metadata": {},
   "outputs": [],
   "source": [
    "# Download one file example (3 GB)\n",
    "\n",
    "!aws s3 cp s3://sevir/data/ir069/2018/'SEVIR_IR069_STORMEVENTS_2018_0701_1231.h5' /home/efs/erasmus/e2107233/SEVIR"
   ]
  },
  {
   "cell_type": "code",
   "execution_count": null,
   "metadata": {},
   "outputs": [],
   "source": [
    "# Create virtual environment\n",
    "\n",
    "python -m venv hpc_max\n",
    "\n",
    "source hpc_max/bin/activate\n",
    "\n",
    "# Install packages\n",
    "\n",
    "pip3 install -r requirements.txt"
   ]
  },
  {
   "cell_type": "code",
   "execution_count": 37,
   "metadata": {},
   "outputs": [
    {
     "name": "stdout",
     "output_type": "stream",
     "text": [
      "Number of files: 2, events/batches per file: 36, images per event: 49\n",
      "Time taken: 166.19989490509033 seconds\n"
     ]
    }
   ],
   "source": [
    "# Process data without parallelisation \n",
    "\n",
    "!python scripts/processing.py 'data'"
   ]
  },
  {
   "cell_type": "code",
   "execution_count": 34,
   "metadata": {},
   "outputs": [
    {
     "name": "stdout",
     "output_type": "stream",
     "text": [
      "Number of files: 2, events/batches per file: 36, images per event: 49\n",
      "Time taken: 135.43693280220032 seconds\n"
     ]
    }
   ],
   "source": [
    "# Process data with parallelisation \n",
    "\n",
    "!python scripts/processing_dask.py 'data'"
   ]
  },
  {
   "cell_type": "code",
   "execution_count": 1,
   "metadata": {},
   "outputs": [
    {
     "data": {
      "text/html": [
       "<table>\n",
       "<tr>\n",
       "<td><img src='results/event_original_15.gif'></td>\n",
       "<td><img src='results/event_kmeans_6.gif'></td>\n",
       "</tr>\n",
       "<tr>\n",
       "<td><img src='results/event_original_33.gif'></td>\n",
       "<td><img src='results/event_kmeans_10.gif'></td>\n",
       "</tr>\n",
       "</table>"
      ],
      "text/plain": [
       "<IPython.core.display.HTML object>"
      ]
     },
     "execution_count": 1,
     "metadata": {},
     "output_type": "execute_result"
    }
   ],
   "source": [
    "# Display results\n",
    "\n",
    "from IPython.core.display import HTML\n",
    "import glob\n",
    "\n",
    "# Get the gif files\n",
    "original_gifs = glob.glob(\"results/event_original_*.gif\")\n",
    "kmeans_gifs = glob.glob(\"results/event_kmeans_*.gif\")\n",
    "\n",
    "html_table = \"\"\"<table>\n",
    "<tr>\n",
    "<td><img src='{}'></td>\n",
    "<td><img src='{}'></td>\n",
    "</tr>\n",
    "<tr>\n",
    "<td><img src='{}'></td>\n",
    "<td><img src='{}'></td>\n",
    "</tr>\n",
    "</table>\"\"\".format(original_gifs[7], kmeans_gifs[7], original_gifs[25], kmeans_gifs[25])\n",
    "\n",
    "HTML(html_table)\n"
   ]
  }
 ],
 "metadata": {
  "kernelspec": {
   "display_name": "UBS",
   "language": "python",
   "name": "python3"
  },
  "language_info": {
   "codemirror_mode": {
    "name": "ipython",
    "version": 3
   },
   "file_extension": ".py",
   "mimetype": "text/x-python",
   "name": "python",
   "nbconvert_exporter": "python",
   "pygments_lexer": "ipython3",
   "version": "3.10.8"
  },
  "orig_nbformat": 4,
  "vscode": {
   "interpreter": {
    "hash": "809d02f6ed970e0551978c892f0edc5eedc4298c21d6921b3e8d8e140d96538a"
   }
  }
 },
 "nbformat": 4,
 "nbformat_minor": 2
}
